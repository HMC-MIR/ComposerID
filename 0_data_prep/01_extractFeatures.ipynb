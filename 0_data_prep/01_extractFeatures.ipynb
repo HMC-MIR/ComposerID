{
 "cells": [
  {
   "cell_type": "markdown",
   "metadata": {},
   "source": [
    "# Extracting Bootleg Score Features"
   ]
  },
  {
   "cell_type": "markdown",
   "metadata": {},
   "source": [
    "This notebook extracts bootleg score features from all the sheet music images."
   ]
  },
  {
   "cell_type": "code",
   "execution_count": 1,
   "metadata": {},
   "outputs": [],
   "source": [
    "import os\n",
    "import os.path\n",
    "import subprocess\n",
    "import multiprocessing\n",
    "import glob\n",
    "import extractBootlegFeatures"
   ]
  },
  {
   "cell_type": "markdown",
   "metadata": {},
   "source": [
    "### Convert PDF to PNG"
   ]
  },
  {
   "cell_type": "markdown",
   "metadata": {},
   "source": [
    "Use ImageMagick to convert PDF files to PNG images.  It is important to have appropriate settings for ImageMagick to be able to process all files.  Here are the recommended settings\n",
    "- memory: 8GiB\n",
    "- map: 4GiB\n",
    "- disk: 8GiB\n",
    "\n",
    "\n",
    "\n",
    "\n",
    "These settings can be changed in e.g. /etc/ImageMagick-6/policy.xml\n"
   ]
  },
  {
   "cell_type": "code",
   "execution_count": 2,
   "metadata": {},
   "outputs": [],
   "source": [
    "def convertPDF2PNG(pdffile, pngfile):\n",
    "    firstpage = pngfile[0:-4] + '-0.png'\n",
    "    if os.path.exists(pngfile) or os.path.exists(firstpage):\n",
    "        #print('Skipping {}'.format(os.path.basename(pdffile)))\n",
    "        pass\n",
    "    else:\n",
    "        outdir = os.path.dirname(pngfile)\n",
    "        if not os.path.isdir(outdir):\n",
    "            os.makedirs(outdir)\n",
    "        print('Converting {}'.format(pdffile))\n",
    "        subprocess.call(['convert', '-density', '300', '-alpha', 'remove', '-resize', '2550', pdffile, pngfile])"
   ]
  },
  {
   "cell_type": "code",
   "execution_count": 3,
   "metadata": {},
   "outputs": [],
   "source": [
    "# PDF to PNG conversion\n",
    "pdf_list = '../cfg_files/pdfs.list' # list of pdfs\n",
    "png_dir = '../data/png' # where to save converted png files\n",
    "n_cores = 28 #multiprocessing.cpu_count()\n",
    "\n",
    "# prep inputs for parallelization\n",
    "inputs = []\n",
    "with open(pdf_list, 'r') as f:\n",
    "    for line in f:\n",
    "        pdffile = line.strip() # data/pdf/Bach/00756.pdf\n",
    "        basename = os.path.splitext(os.path.basename(pdffile))[0] \n",
    "        composer = os.path.basename(os.path.dirname(pdffile)) \n",
    "        outdir = '{}/{}/{}'.format(png_dir, composer, basename)\n",
    "        pngfile = '{}/{}.png'.format(outdir, basename)\n",
    "        inputs.append((pdffile, pngfile))\n",
    "\n",
    "# process queries in parallel\n",
    "pool = multiprocessing.Pool(processes=n_cores)\n",
    "outputs = list(pool.starmap(convertPDF2PNG, inputs))"
   ]
  },
  {
   "cell_type": "code",
   "execution_count": 4,
   "metadata": {},
   "outputs": [],
   "source": [
    "def renameSinglePageFiles(png_dir):\n",
    "    '''\n",
    "    If the pdf contains only 1 page, the name of the file will be p123.png, not p123-0.png.\n",
    "    to keep a consistent naming convention, we rename these to p123-0.png.\n",
    "    '''\n",
    "    for dirname in glob.glob('{}/*/*'.format(png_dir)):\n",
    "        pieceid = os.path.basename(dirname)\n",
    "        singlePageFilename = '{}/{}.png'.format(dirname, pieceid)\n",
    "        multiPageFilename = '{}/{}-0.png'.format(dirname, pieceid)\n",
    "        if os.path.exists(singlePageFilename):\n",
    "            os.rename(singlePageFilename, multiPageFilename)"
   ]
  },
  {
   "cell_type": "code",
   "execution_count": 5,
   "metadata": {},
   "outputs": [],
   "source": [
    "renameSinglePageFiles(png_dir)"
   ]
  },
  {
   "cell_type": "markdown",
   "metadata": {},
   "source": [
    "### Extract Features"
   ]
  },
  {
   "cell_type": "code",
   "execution_count": 18,
   "metadata": {},
   "outputs": [
    {
     "name": "stdout",
     "output_type": "stream",
     "text": [
      "0 remaining files to process\n"
     ]
    }
   ],
   "source": [
    "# use multiple cores\n",
    "pdflist = '../cfg_files/pdfs.list' # list of pdf scores\n",
    "png_dir = '../data/png' # root directory containing image data\n",
    "feat_dir = '../score_feat' # where to save bootleg scores\n",
    "n_cores = 24 #multiprocessing.cpu_count()\n",
    "\n",
    "if not os.path.isdir(feat_dir):\n",
    "    os.makedirs(feat_dir)\n",
    "\n",
    "# prep inputs for parallelization\n",
    "inputs = []\n",
    "with open(pdflist, 'r') as f:\n",
    "    for line in f:\n",
    "        pdffile = line.rstrip() # e.g. data/pdf/Bach/00735.pdf\n",
    "        pieceid = os.path.splitext(os.path.basename(pdffile))[0] # e.g. 00735\n",
    "        composer = os.path.basename(os.path.dirname(pdffile)) # e.g. Bach\n",
    "        indir = '{}/{}/{}'.format(png_dir, composer, pieceid) # e.g. data/png/Bach/00735\n",
    "        outdir = '{}/{}/{}'.format(feat_dir, composer, pieceid) # e.g. score_feat/Bach/00735\n",
    "        if not os.path.isdir(outdir):\n",
    "            os.makedirs(outdir)\n",
    "        for imagefile in glob.glob('{}/*.png'.format(indir)):\n",
    "            basename = os.path.splitext(os.path.basename(imagefile))[0] # e.g. 00735-0\n",
    "            outfile = '{}/{}.pkl'.format(outdir, basename)\n",
    "            if os.path.exists(outfile):\n",
    "                #print('Skipping {}'.format(os.path.basename(outfile)))\n",
    "                pass\n",
    "            else:\n",
    "                inputs.append((imagefile, outfile))\n",
    "print('{} remaining files to process'.format(len(inputs)))\n",
    "\n",
    "# process queries in parallel\n",
    "pool = multiprocessing.Pool(processes=n_cores)\n",
    "outputs = list(pool.starmap(extractBootlegFeatures.processImageFile, inputs))"
   ]
  },
  {
   "cell_type": "code",
   "execution_count": null,
   "metadata": {},
   "outputs": [],
   "source": []
  }
 ],
 "metadata": {
  "kernelspec": {
   "display_name": "Python 3",
   "language": "python",
   "name": "python3"
  },
  "language_info": {
   "codemirror_mode": {
    "name": "ipython",
    "version": 3
   },
   "file_extension": ".py",
   "mimetype": "text/x-python",
   "name": "python",
   "nbconvert_exporter": "python",
   "pygments_lexer": "ipython3",
   "version": "3.7.3"
  }
 },
 "nbformat": 4,
 "nbformat_minor": 2
}
