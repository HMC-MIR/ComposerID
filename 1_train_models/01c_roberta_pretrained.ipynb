{
 "cells": [
  {
   "cell_type": "markdown",
   "metadata": {},
   "source": [
    "# RoBERTa Classifier with target LM pretraining"
   ]
  },
  {
   "cell_type": "markdown",
   "metadata": {},
   "source": [
    "In this notebook we will train a RoBERTa classifier for the proxy task using the pretrained target language model for initialization.  The language model is trained in 04_roberta_lm.ipynb.\n",
    "\n",
    "This notebook is adapted from [this](https://towardsdatascience.com/fastai-with-transformers-bert-roberta-xlnet-xlm-distilbert-4f41ee18ecb2) blog post."
   ]
  },
  {
   "cell_type": "code",
   "execution_count": 1,
   "metadata": {},
   "outputs": [],
   "source": [
    "%matplotlib inline\n",
    "%load_ext autoreload\n",
    "%autoreload 2"
   ]
  },
  {
   "cell_type": "code",
   "execution_count": 2,
   "metadata": {},
   "outputs": [
    {
     "ename": "ModuleNotFoundError",
     "evalue": "No module named 'fastai'",
     "output_type": "error",
     "traceback": [
      "\u001b[0;31m---------------------------------------------------------------------------\u001b[0m",
      "\u001b[0;31mModuleNotFoundError\u001b[0m                       Traceback (most recent call last)",
      "\u001b[0;32m<ipython-input-2-511a17c27566>\u001b[0m in \u001b[0;36m<module>\u001b[0;34m\u001b[0m\n\u001b[0;32m----> 1\u001b[0;31m \u001b[0;32mfrom\u001b[0m \u001b[0mfastai\u001b[0m \u001b[0;32mimport\u001b[0m \u001b[0;34m*\u001b[0m\u001b[0;34m\u001b[0m\u001b[0;34m\u001b[0m\u001b[0m\n\u001b[0m\u001b[1;32m      2\u001b[0m \u001b[0;32mfrom\u001b[0m \u001b[0mfastai\u001b[0m\u001b[0;34m.\u001b[0m\u001b[0mtext\u001b[0m \u001b[0;32mimport\u001b[0m \u001b[0;34m*\u001b[0m\u001b[0;34m\u001b[0m\u001b[0;34m\u001b[0m\u001b[0m\n\u001b[1;32m      3\u001b[0m \u001b[0;32mfrom\u001b[0m \u001b[0mtransformers\u001b[0m \u001b[0;32mimport\u001b[0m \u001b[0mRobertaForSequenceClassification\u001b[0m\u001b[0;34m,\u001b[0m \u001b[0mRobertaConfig\u001b[0m\u001b[0;34m\u001b[0m\u001b[0;34m\u001b[0m\u001b[0m\n\u001b[1;32m      4\u001b[0m \u001b[0;32mimport\u001b[0m \u001b[0meval_models\u001b[0m\u001b[0;34m\u001b[0m\u001b[0;34m\u001b[0m\u001b[0m\n\u001b[1;32m      5\u001b[0m \u001b[0;32mfrom\u001b[0m \u001b[0mtrain_utils\u001b[0m \u001b[0;32mimport\u001b[0m \u001b[0;34m*\u001b[0m\u001b[0;34m\u001b[0m\u001b[0;34m\u001b[0m\u001b[0m\n",
      "\u001b[0;31mModuleNotFoundError\u001b[0m: No module named 'fastai'"
     ]
    }
   ],
   "source": [
    "from fastai import *\n",
    "from fastai.text import *\n",
    "from transformers import RobertaForSequenceClassification, RobertaConfig\n",
    "import eval_models\n",
    "from train_utils import *"
   ]
  },
  {
   "cell_type": "code",
   "execution_count": 3,
   "metadata": {},
   "outputs": [
    {
     "ename": "ModuleNotFoundError",
     "evalue": "No module named 'fastai'",
     "output_type": "error",
     "traceback": [
      "\u001b[0;31m---------------------------------------------------------------------------\u001b[0m",
      "\u001b[0;31mModuleNotFoundError\u001b[0m                       Traceback (most recent call last)",
      "\u001b[0;32m<ipython-input-3-164d0ffb925c>\u001b[0m in \u001b[0;36m<module>\u001b[0;34m\u001b[0m\n\u001b[0;32m----> 1\u001b[0;31m \u001b[0;32mimport\u001b[0m \u001b[0mfastai\u001b[0m\u001b[0;34m\u001b[0m\u001b[0;34m\u001b[0m\u001b[0m\n\u001b[0m\u001b[1;32m      2\u001b[0m \u001b[0;32mimport\u001b[0m \u001b[0mtransformers\u001b[0m\u001b[0;34m\u001b[0m\u001b[0;34m\u001b[0m\u001b[0m\n\u001b[1;32m      3\u001b[0m \u001b[0;32mimport\u001b[0m \u001b[0mtokenizers\u001b[0m\u001b[0;34m\u001b[0m\u001b[0;34m\u001b[0m\u001b[0m\n\u001b[1;32m      4\u001b[0m \u001b[0mprint\u001b[0m\u001b[0;34m(\u001b[0m\u001b[0;34m'fastai version :'\u001b[0m\u001b[0;34m,\u001b[0m \u001b[0mfastai\u001b[0m\u001b[0;34m.\u001b[0m\u001b[0m__version__\u001b[0m\u001b[0;34m)\u001b[0m\u001b[0;34m\u001b[0m\u001b[0;34m\u001b[0m\u001b[0m\n\u001b[1;32m      5\u001b[0m \u001b[0mprint\u001b[0m\u001b[0;34m(\u001b[0m\u001b[0;34m'transformers version :'\u001b[0m\u001b[0;34m,\u001b[0m \u001b[0mtransformers\u001b[0m\u001b[0;34m.\u001b[0m\u001b[0m__version__\u001b[0m\u001b[0;34m)\u001b[0m\u001b[0;34m\u001b[0m\u001b[0;34m\u001b[0m\u001b[0m\n",
      "\u001b[0;31mModuleNotFoundError\u001b[0m: No module named 'fastai'"
     ]
    }
   ],
   "source": [
    "import fastai\n",
    "import transformers\n",
    "import tokenizers\n",
    "print('fastai version :', fastai.__version__)\n",
    "print('transformers version :', transformers.__version__)\n",
    "print('tokenizers version :', tokenizers.__version__)"
   ]
  },
  {
   "cell_type": "code",
   "execution_count": 4,
   "metadata": {},
   "outputs": [
    {
     "ename": "NameError",
     "evalue": "name 'torch' is not defined",
     "output_type": "error",
     "traceback": [
      "\u001b[0;31m---------------------------------------------------------------------------\u001b[0m",
      "\u001b[0;31mNameError\u001b[0m                                 Traceback (most recent call last)",
      "\u001b[0;32m<ipython-input-4-dfa008bf10de>\u001b[0m in \u001b[0;36m<module>\u001b[0;34m\u001b[0m\n\u001b[0;32m----> 1\u001b[0;31m \u001b[0mtorch\u001b[0m\u001b[0;34m.\u001b[0m\u001b[0mcuda\u001b[0m\u001b[0;34m.\u001b[0m\u001b[0mset_device\u001b[0m\u001b[0;34m(\u001b[0m\u001b[0;36m1\u001b[0m\u001b[0;34m)\u001b[0m\u001b[0;34m\u001b[0m\u001b[0;34m\u001b[0m\u001b[0m\n\u001b[0m",
      "\u001b[0;31mNameError\u001b[0m: name 'torch' is not defined"
     ]
    }
   ],
   "source": [
    "torch.cuda.set_device(1)"
   ]
  },
  {
   "cell_type": "markdown",
   "metadata": {},
   "source": [
    "### Prep databunch"
   ]
  },
  {
   "cell_type": "code",
   "execution_count": 5,
   "metadata": {},
   "outputs": [],
   "source": [
    "bs = 64\n",
    "seed = 42\n",
    "tok_model_dir = '/home/dyang/.fastai/data/bscore_lm/bpe_data/tokenizer_target'\n",
    "max_seq_len = 256"
   ]
  },
  {
   "cell_type": "code",
   "execution_count": 6,
   "metadata": {},
   "outputs": [],
   "source": [
    "cust_tok = CustomTokenizer(TransformersBaseTokenizer, tok_model_dir, max_seq_len)\n",
    "transformer_base_tokenizer = TransformersBaseTokenizer(tok_model_dir, max_seq_len)\n",
    "transformer_vocab =  TransformersVocab(tokenizer = transformer_base_tokenizer._pretrained_tokenizer)"
   ]
  },
  {
   "cell_type": "code",
   "execution_count": 7,
   "metadata": {},
   "outputs": [],
   "source": [
    "pad_idx = transformer_base_tokenizer._pretrained_tokenizer.token_to_id('<pad>')"
   ]
  },
  {
   "cell_type": "code",
   "execution_count": 8,
   "metadata": {},
   "outputs": [],
   "source": [
    "bpe_path = Path('/home/dyang/.fastai/data/bscore_lm/bpe_data')\n",
    "train_df = pd.read_csv(bpe_path/'train64.char.csv')\n",
    "valid_df = pd.read_csv(bpe_path/'valid64.char.csv')\n",
    "test_df = pd.read_csv(bpe_path/'test64.char.csv')"
   ]
  },
  {
   "cell_type": "code",
   "execution_count": 9,
   "metadata": {},
   "outputs": [
    {
     "data": {
      "text/html": [],
      "text/plain": [
       "<IPython.core.display.HTML object>"
      ]
     },
     "metadata": {},
     "output_type": "display_data"
    },
    {
     "data": {
      "text/html": [],
      "text/plain": [
       "<IPython.core.display.HTML object>"
      ]
     },
     "metadata": {},
     "output_type": "display_data"
    }
   ],
   "source": [
    "data_clas = TextDataBunch.from_df(bpe_path, train_df, valid_df, tokenizer=cust_tok, vocab=transformer_vocab,\n",
    "                                  include_bos=False, include_eos=False, pad_first=False, pad_idx=pad_idx, \n",
    "                                  bs=bs, num_workers=1)"
   ]
  },
  {
   "cell_type": "markdown",
   "metadata": {},
   "source": [
    "### Train Classifier"
   ]
  },
  {
   "cell_type": "code",
   "execution_count": 10,
   "metadata": {},
   "outputs": [],
   "source": [
    "model_class, config_class = RobertaForSequenceClassification, RobertaConfig\n",
    "model_path = '/home/dyang/.fastai/data/bscore_lm/bpe_data/models/roberta_train-target_lm'"
   ]
  },
  {
   "cell_type": "code",
   "execution_count": 11,
   "metadata": {},
   "outputs": [],
   "source": [
    "config = config_class.from_pretrained(model_path)\n",
    "config.num_labels = data_clas.c"
   ]
  },
  {
   "cell_type": "code",
   "execution_count": 12,
   "metadata": {},
   "outputs": [],
   "source": [
    "transformer_model = model_class.from_pretrained(model_path, config = config)\n",
    "custom_transformer_model = RobertaModelWrapper(transformer_model, pad_idx)"
   ]
  },
  {
   "cell_type": "code",
   "execution_count": 13,
   "metadata": {},
   "outputs": [],
   "source": [
    "# learner.destroy()\n",
    "# torch.cuda.empty_cache()"
   ]
  },
  {
   "cell_type": "code",
   "execution_count": 14,
   "metadata": {},
   "outputs": [],
   "source": [
    "learner = Learner(data_clas, custom_transformer_model, metrics=[accuracy, FBeta(average='macro', beta=1)])"
   ]
  },
  {
   "cell_type": "code",
   "execution_count": 15,
   "metadata": {},
   "outputs": [],
   "source": [
    "list_layers = [learner.model.transformer.roberta.embeddings,\n",
    "              learner.model.transformer.roberta.encoder.layer[0],\n",
    "              learner.model.transformer.roberta.encoder.layer[1],\n",
    "              learner.model.transformer.roberta.encoder.layer[2],\n",
    "              learner.model.transformer.roberta.encoder.layer[3],\n",
    "              learner.model.transformer.roberta.encoder.layer[4],\n",
    "              learner.model.transformer.roberta.encoder.layer[5],\n",
    "              learner.model.transformer.roberta.pooler]"
   ]
  },
  {
   "cell_type": "code",
   "execution_count": 16,
   "metadata": {},
   "outputs": [
    {
     "name": "stdout",
     "output_type": "stream",
     "text": [
      "[Sequential(\n",
      "  (0): Embedding(30000, 768, padding_idx=0)\n",
      "  (1): Embedding(514, 768)\n",
      "  (2): Embedding(1, 768)\n",
      "  (3): LayerNorm((768,), eps=1e-05, elementwise_affine=True)\n",
      "  (4): Dropout(p=0.1, inplace=False)\n",
      "), Sequential(\n",
      "  (0): Linear(in_features=768, out_features=768, bias=True)\n",
      "  (1): Linear(in_features=768, out_features=768, bias=True)\n",
      "  (2): Linear(in_features=768, out_features=768, bias=True)\n",
      "  (3): Dropout(p=0.1, inplace=False)\n",
      "  (4): Linear(in_features=768, out_features=768, bias=True)\n",
      "  (5): LayerNorm((768,), eps=1e-05, elementwise_affine=True)\n",
      "  (6): Dropout(p=0.1, inplace=False)\n",
      "  (7): Linear(in_features=768, out_features=3072, bias=True)\n",
      "  (8): Linear(in_features=3072, out_features=768, bias=True)\n",
      "  (9): LayerNorm((768,), eps=1e-05, elementwise_affine=True)\n",
      "  (10): Dropout(p=0.1, inplace=False)\n",
      "), Sequential(\n",
      "  (0): Linear(in_features=768, out_features=768, bias=True)\n",
      "  (1): Linear(in_features=768, out_features=768, bias=True)\n",
      "  (2): Linear(in_features=768, out_features=768, bias=True)\n",
      "  (3): Dropout(p=0.1, inplace=False)\n",
      "  (4): Linear(in_features=768, out_features=768, bias=True)\n",
      "  (5): LayerNorm((768,), eps=1e-05, elementwise_affine=True)\n",
      "  (6): Dropout(p=0.1, inplace=False)\n",
      "  (7): Linear(in_features=768, out_features=3072, bias=True)\n",
      "  (8): Linear(in_features=3072, out_features=768, bias=True)\n",
      "  (9): LayerNorm((768,), eps=1e-05, elementwise_affine=True)\n",
      "  (10): Dropout(p=0.1, inplace=False)\n",
      "), Sequential(\n",
      "  (0): Linear(in_features=768, out_features=768, bias=True)\n",
      "  (1): Linear(in_features=768, out_features=768, bias=True)\n",
      "  (2): Linear(in_features=768, out_features=768, bias=True)\n",
      "  (3): Dropout(p=0.1, inplace=False)\n",
      "  (4): Linear(in_features=768, out_features=768, bias=True)\n",
      "  (5): LayerNorm((768,), eps=1e-05, elementwise_affine=True)\n",
      "  (6): Dropout(p=0.1, inplace=False)\n",
      "  (7): Linear(in_features=768, out_features=3072, bias=True)\n",
      "  (8): Linear(in_features=3072, out_features=768, bias=True)\n",
      "  (9): LayerNorm((768,), eps=1e-05, elementwise_affine=True)\n",
      "  (10): Dropout(p=0.1, inplace=False)\n",
      "), Sequential(\n",
      "  (0): Linear(in_features=768, out_features=768, bias=True)\n",
      "  (1): Linear(in_features=768, out_features=768, bias=True)\n",
      "  (2): Linear(in_features=768, out_features=768, bias=True)\n",
      "  (3): Dropout(p=0.1, inplace=False)\n",
      "  (4): Linear(in_features=768, out_features=768, bias=True)\n",
      "  (5): LayerNorm((768,), eps=1e-05, elementwise_affine=True)\n",
      "  (6): Dropout(p=0.1, inplace=False)\n",
      "  (7): Linear(in_features=768, out_features=3072, bias=True)\n",
      "  (8): Linear(in_features=3072, out_features=768, bias=True)\n",
      "  (9): LayerNorm((768,), eps=1e-05, elementwise_affine=True)\n",
      "  (10): Dropout(p=0.1, inplace=False)\n",
      "), Sequential(\n",
      "  (0): Linear(in_features=768, out_features=768, bias=True)\n",
      "  (1): Linear(in_features=768, out_features=768, bias=True)\n",
      "  (2): Linear(in_features=768, out_features=768, bias=True)\n",
      "  (3): Dropout(p=0.1, inplace=False)\n",
      "  (4): Linear(in_features=768, out_features=768, bias=True)\n",
      "  (5): LayerNorm((768,), eps=1e-05, elementwise_affine=True)\n",
      "  (6): Dropout(p=0.1, inplace=False)\n",
      "  (7): Linear(in_features=768, out_features=3072, bias=True)\n",
      "  (8): Linear(in_features=3072, out_features=768, bias=True)\n",
      "  (9): LayerNorm((768,), eps=1e-05, elementwise_affine=True)\n",
      "  (10): Dropout(p=0.1, inplace=False)\n",
      "), Sequential(\n",
      "  (0): Linear(in_features=768, out_features=768, bias=True)\n",
      "  (1): Linear(in_features=768, out_features=768, bias=True)\n",
      "  (2): Linear(in_features=768, out_features=768, bias=True)\n",
      "  (3): Dropout(p=0.1, inplace=False)\n",
      "  (4): Linear(in_features=768, out_features=768, bias=True)\n",
      "  (5): LayerNorm((768,), eps=1e-05, elementwise_affine=True)\n",
      "  (6): Dropout(p=0.1, inplace=False)\n",
      "  (7): Linear(in_features=768, out_features=3072, bias=True)\n",
      "  (8): Linear(in_features=3072, out_features=768, bias=True)\n",
      "  (9): LayerNorm((768,), eps=1e-05, elementwise_affine=True)\n",
      "  (10): Dropout(p=0.1, inplace=False)\n",
      "), Sequential(\n",
      "  (0): Linear(in_features=768, out_features=768, bias=True)\n",
      "  (1): Tanh()\n",
      "  (2): Linear(in_features=768, out_features=768, bias=True)\n",
      "  (3): Dropout(p=0.1, inplace=False)\n",
      "  (4): Linear(in_features=768, out_features=9, bias=True)\n",
      ")]\n"
     ]
    }
   ],
   "source": [
    "learner.split(list_layers)\n",
    "print(learner.layer_groups)"
   ]
  },
  {
   "cell_type": "code",
   "execution_count": 17,
   "metadata": {},
   "outputs": [],
   "source": [
    "seed_all(seed)"
   ]
  },
  {
   "cell_type": "code",
   "execution_count": 18,
   "metadata": {},
   "outputs": [],
   "source": [
    "learner.freeze_to(-1)"
   ]
  },
  {
   "cell_type": "code",
   "execution_count": 19,
   "metadata": {},
   "outputs": [],
   "source": [
    "#learner.summary()"
   ]
  },
  {
   "cell_type": "code",
   "execution_count": 20,
   "metadata": {},
   "outputs": [
    {
     "data": {
      "text/html": [
       "\n",
       "    <div>\n",
       "        <style>\n",
       "            /* Turns off some styling */\n",
       "            progress {\n",
       "                /* gets rid of default border in Firefox and Opera. */\n",
       "                border: none;\n",
       "                /* Needs to be in here for Safari polyfill so background images work as expected. */\n",
       "                background-size: auto;\n",
       "            }\n",
       "            .progress-bar-interrupted, .progress-bar-interrupted::-webkit-progress-bar {\n",
       "                background: #F44336;\n",
       "            }\n",
       "        </style>\n",
       "      <progress value='0' class='' max='1' style='width:300px; height:20px; vertical-align: middle;'></progress>\n",
       "      0.00% [0/1 00:00<00:00]\n",
       "    </div>\n",
       "    \n",
       "<table border=\"1\" class=\"dataframe\">\n",
       "  <thead>\n",
       "    <tr style=\"text-align: left;\">\n",
       "      <th>epoch</th>\n",
       "      <th>train_loss</th>\n",
       "      <th>valid_loss</th>\n",
       "      <th>accuracy</th>\n",
       "      <th>f_beta</th>\n",
       "      <th>time</th>\n",
       "    </tr>\n",
       "  </thead>\n",
       "  <tbody>\n",
       "  </tbody>\n",
       "</table><p>\n",
       "\n",
       "    <div>\n",
       "        <style>\n",
       "            /* Turns off some styling */\n",
       "            progress {\n",
       "                /* gets rid of default border in Firefox and Opera. */\n",
       "                border: none;\n",
       "                /* Needs to be in here for Safari polyfill so background images work as expected. */\n",
       "                background-size: auto;\n",
       "            }\n",
       "            .progress-bar-interrupted, .progress-bar-interrupted::-webkit-progress-bar {\n",
       "                background: #F44336;\n",
       "            }\n",
       "        </style>\n",
       "      <progress value='76' class='' max='506' style='width:300px; height:20px; vertical-align: middle;'></progress>\n",
       "      15.02% [76/506 00:29<02:46 7.7269]\n",
       "    </div>\n",
       "    "
      ],
      "text/plain": [
       "<IPython.core.display.HTML object>"
      ]
     },
     "metadata": {},
     "output_type": "display_data"
    },
    {
     "name": "stdout",
     "output_type": "stream",
     "text": [
      "LR Finder is complete, type {learner_name}.recorder.plot() to see the graph.\n"
     ]
    }
   ],
   "source": [
    "learner.lr_find()"
   ]
  },
  {
   "cell_type": "code",
   "execution_count": 21,
   "metadata": {},
   "outputs": [
    {
     "name": "stdout",
     "output_type": "stream",
     "text": [
      "Min numerical gradient: 2.75E-06\n",
      "Min loss divided by 10: 1.58E-05\n"
     ]
    },
    {
     "data": {
      "image/png": "[encoded data removed]",
      "text/plain": [
       "<Figure size 432x288 with 1 Axes>"
      ]
     },
     "metadata": {
      "needs_background": "light"
     },
     "output_type": "display_data"
    }
   ],
   "source": [
    "learner.recorder.plot(suggestion=True)"
   ]
  },
  {
   "cell_type": "code",
   "execution_count": 45,
   "metadata": {},
   "outputs": [],
   "source": [
    "lr = 3e-4"
   ]
  },
  {
   "cell_type": "code",
   "execution_count": null,
   "metadata": {},
   "outputs": [],
   "source": [
    "learner.fit_one_cycle(2, lr, moms=(0.8,0.7))"
   ]
  },
  {
   "cell_type": "code",
   "execution_count": 26,
   "metadata": {},
   "outputs": [
    {
     "data": {
      "text/html": [
       "<table border=\"1\" class=\"dataframe\">\n",
       "  <thead>\n",
       "    <tr style=\"text-align: left;\">\n",
       "      <th>epoch</th>\n",
       "      <th>train_loss</th>\n",
       "      <th>valid_loss</th>\n",
       "      <th>accuracy</th>\n",
       "      <th>f_beta</th>\n",
       "      <th>time</th>\n",
       "    </tr>\n",
       "  </thead>\n",
       "  <tbody>\n",
       "    <tr>\n",
       "      <td>0</td>\n",
       "      <td>1.625678</td>\n",
       "      <td>1.615166</td>\n",
       "      <td>0.399630</td>\n",
       "      <td>0.379556</td>\n",
       "      <td>00:51</td>\n",
       "    </tr>\n",
       "    <tr>\n",
       "      <td>1</td>\n",
       "      <td>1.535350</td>\n",
       "      <td>1.588950</td>\n",
       "      <td>0.413981</td>\n",
       "      <td>0.394732</td>\n",
       "      <td>00:52</td>\n",
       "    </tr>\n",
       "  </tbody>\n",
       "</table>"
      ],
      "text/plain": [
       "<IPython.core.display.HTML object>"
      ]
     },
     "metadata": {},
     "output_type": "display_data"
    }
   ],
   "source": [
    "learner.fit_one_cycle(2, lr, moms=(0.8,0.7))"
   ]
  },
  {
   "cell_type": "code",
   "execution_count": 27,
   "metadata": {},
   "outputs": [
    {
     "data": {
      "text/html": [
       "<table border=\"1\" class=\"dataframe\">\n",
       "  <thead>\n",
       "    <tr style=\"text-align: left;\">\n",
       "      <th>epoch</th>\n",
       "      <th>train_loss</th>\n",
       "      <th>valid_loss</th>\n",
       "      <th>accuracy</th>\n",
       "      <th>f_beta</th>\n",
       "      <th>time</th>\n",
       "    </tr>\n",
       "  </thead>\n",
       "  <tbody>\n",
       "    <tr>\n",
       "      <td>0</td>\n",
       "      <td>1.268918</td>\n",
       "      <td>1.542570</td>\n",
       "      <td>0.458796</td>\n",
       "      <td>0.445470</td>\n",
       "      <td>01:00</td>\n",
       "    </tr>\n",
       "    <tr>\n",
       "      <td>1</td>\n",
       "      <td>0.976911</td>\n",
       "      <td>1.525741</td>\n",
       "      <td>0.475370</td>\n",
       "      <td>0.463372</td>\n",
       "      <td>01:01</td>\n",
       "    </tr>\n",
       "  </tbody>\n",
       "</table>"
      ],
      "text/plain": [
       "<IPython.core.display.HTML object>"
      ]
     },
     "metadata": {},
     "output_type": "display_data"
    }
   ],
   "source": [
    "learner.freeze_to(-2)\n",
    "learner.fit_one_cycle(2, slice(lr/(2.6**4),lr), moms=(0.8, 0.9))"
   ]
  },
  {
   "cell_type": "code",
   "execution_count": 28,
   "metadata": {},
   "outputs": [
    {
     "data": {
      "text/html": [
       "<table border=\"1\" class=\"dataframe\">\n",
       "  <thead>\n",
       "    <tr style=\"text-align: left;\">\n",
       "      <th>epoch</th>\n",
       "      <th>train_loss</th>\n",
       "      <th>valid_loss</th>\n",
       "      <th>accuracy</th>\n",
       "      <th>f_beta</th>\n",
       "      <th>time</th>\n",
       "    </tr>\n",
       "  </thead>\n",
       "  <tbody>\n",
       "    <tr>\n",
       "      <td>0</td>\n",
       "      <td>0.894145</td>\n",
       "      <td>1.596980</td>\n",
       "      <td>0.480648</td>\n",
       "      <td>0.469073</td>\n",
       "      <td>01:12</td>\n",
       "    </tr>\n",
       "    <tr>\n",
       "      <td>1</td>\n",
       "      <td>0.648468</td>\n",
       "      <td>1.640450</td>\n",
       "      <td>0.487500</td>\n",
       "      <td>0.478129</td>\n",
       "      <td>01:14</td>\n",
       "    </tr>\n",
       "  </tbody>\n",
       "</table>"
      ],
      "text/plain": [
       "<IPython.core.display.HTML object>"
      ]
     },
     "metadata": {},
     "output_type": "display_data"
    }
   ],
   "source": [
    "learner.freeze_to(-3)\n",
    "learner.fit_one_cycle(2, slice(lr/2/(2.6**4),lr/2), moms=(0.8, 0.9))"
   ]
  },
  {
   "cell_type": "code",
   "execution_count": 29,
   "metadata": {},
   "outputs": [
    {
     "data": {
      "text/plain": [
       "Learner(data=TextClasDataBunch;\n",
       "\n",
       "Train: LabelList (32400 items)\n",
       "x: TextList\n",
       "<s> 一</w> 一</w> 一</w> 一</w> 一</w> 丂</w> 一</w> 一</w> 一</w> 一</w> <unk> 一</w> 一</w> 丈</w> 一</w> 一</w> 一</w> 一</w> 一</w> 一</w> 一</w> 丈</w> 一</w> 一</w> 一</w> 一</w> 丐</w> 一</w> 一</w> 丈</w> 丄</w> 一</w> 一</w> 一</w> 一</w> 一</w> 一</w> 一</w> 丁</w> 一</w> 一</w> 一</w> <unk> 一</w> 一</w> 一</w> 一</w> 一</w> 一</w> 一</w> 一</w> 一</w> 丈</w> 一</w> 一</w> 一</w> 一</w> 一</w> 一</w> 一</w> 丠</w> 一</w> 一</w> 一</w> 一</w> 一</w> 一</w> 一</w> 一</w> 丁</w> 一</w> 一</w> 一</w> 一</w> 丠</w> 一</w> 一</w> 丄</w> 一</w> 一</w> 一</w> 一</w> 一</w> 一</w> 一</w> 丄</w> 一</w> 一</w> 一</w> 一</w> 丈</w> 一</w> 一</w> 丈</w> 一</w> 一</w> 一</w> 一</w> 一</w> 一</w> 一</w> 丁</w> 一</w> 一</w> 一</w> 一</w> 丐</w> 一</w> 一</w> 丁</w> 一</w> 一</w> 一</w> 一</w> 一</w> 一</w> <unk> 一</w> 一</w> 一</w> 一</w> 一</w> 丂</w> 一</w> 一</w> 丂</w> 一</w> 一</w> 一</w> 一</w> 丁</w> 一</w> 丐</w> 一</w> 一</w> 一</w> 一</w> <unk> 一</w> 一</w> 丠</w> 一</w> 一</w> 一</w> 一</w> <unk> 一</w> 一</w> 一</w> 一</w> 一</w> 一</w> 一</w> 丠</w> 一</w> 一</w> 一</w> 一</w> 一</w> 一</w> 一</w> 丐</w> 一</w> 一</w> 一</w> 一</w> 一</w> 一</w> 一</w> 丈</w> 一</w> 一</w> 一</w> 一</w> 一</w> 一</w> 一</w> 一</w> 一</w> 一</w> 丠</w> 一</w> 一</w> 一</w> 一</w> 一</w> 一</w> 一</w> 一</w> 丁</w> 一</w> 一</w> 一</w> 一</w> 一</w> 一</w> 一</w> 丄</w> 一</w> 一</w> 一</w> 一</w> 丄</w> 一</w> 一</w> 丐</w> 一</w> 一</w> 一</w> 一</w> 一</w> 一</w> 一</w> 丐</w> 一</w> 一</w> 一</w> 一</w> 丁</w> 一</w> 一</w> 丐</w> 一</w> 一</w> 一</w> 一</w> 一</w> 一</w> 一</w> <unk> 一</w> 一</w> 一</w> 一</w> 丂</w> 一</w> <unk> 一</w> 一</w> 一</w> 一</w> 一</w> 一</w> 一</w> 丐</w> 一</w> 一</w> 一</w> 一</w> 一</w> 一</w> 一</w> <unk> 一</w> </s>,<s> 一</w> 一</w> 丄</w> 一</w> <unk> 丂</w> 一</w> 一</w> 一</w> 一</w> 丈</w> 一</w> 一</w> 一</w> 一</w> 一</w> 一</w> 一</w> 丄</w> 一</w> 一</w> 一</w> 一</w> 一</w> <unk> 一</w> 一</w> 一</w> 一</w> 一</w> 一</w> 一</w> 一</w> <unk> 一</w> 一</w> 一</w> 一</w> 一</w> 一</w> 一</w> 一</w> 丄</w> 一</w> 一</w> 丅</w> 一</w> 一</w> 一</w> 一</w> 丈</w> 一</w> 一</w> 一</w> 一</w> 一</w> 一</w> 一</w> 丄</w> 一</w> 一</w> 一</w> 一</w> 一</w> 一</w> 一</w> <unk> 一</w> 一</w> 且</w> 一</w> 一</w> 一</w> 一</w> 丄</w> 一</w> 一</w> 一</w> 一</w> 一</w> 一</w> 一</w> 丈</w> 一</w> 一</w> 丅</w> 一</w> 一</w> 丐</w> 一</w> 丄</w> 一</w> 一</w> 一</w> 一</w> 一</w> 一</w> 丠</w> 一</w> 一</w> 一</w> 丅</w> 一</w> 一</w> 一</w> 一</w> 丄</w> 一</w> <unk> 丂</w> 一</w> 一</w> 一</w> 一</w> 丈</w> 一</w> 一</w> 一</w> 一</w> 一</w> 一</w> 一</w> 丄</w> 一</w> 一</w> 一</w> 一</w> 一</w> 一</w> 一</w> 一</w> 丁</w> 一</w> 一</w> 一</w> 一</w> 一</w> 一</w> 丄</w> 一</w> <unk> 丂</w> 一</w> 一</w> 一</w> 一</w> 丈</w> 一</w> 一</w> 一</w> 一</w> 一</w> 丐</w> 一</w> 丄</w> 一</w> 一</w> 一</w> 一</w> 一</w> 一</w> 丠</w> 一</w> 一</w> <unk> 一</w> 一</w> 一</w> 一</w> 一</w> 丄</w> 一</w> 一</w> 一</w> 一</w> 一</w> 一</w> 一</w> 丈</w> 一</w> 一</w> 一</w> 一</w> 一</w> 一</w> 一</w> 丄</w> 一</w> 一</w> 一</w> 一</w> 一</w> 一</w> 一</w> 一</w> 丁</w> <unk> 丁</w> 一</w> 一</w> 一</w> 一</w> 丄</w> 一</w> <unk> 一</w> 一</w> 一</w> 一</w> 一</w> 丈</w> 一</w> 一</w> 一</w> 一</w> 一</w> <unk> 一</w> 丄</w> 一</w> 一</w> 一</w> 一</w> 一</w> 一</w> 一</w> 丐</w> 丁</w> 丢</w> 一</w> 一</w> 一</w> 一</w> 一</w> 丈</w> 一</w> 丂</w> 一</w> 一</w> 一</w> 一</w> 一</w> 一</w> 一</w> 一</w> <unk> 一</w> 一</w> 一</w> <unk> 丄</w> 一</w> 一</w> 丄</w> </s>,<s> 一</w> 一</w> 一</w> 一</w> 丠</w> 一</w> 一</w> 一</w> 一</w> 丂</w> 一</w> 一</w> 一</w> 一</w> 一</w> 一</w> 一</w> 丁</w> 一</w> 一</w> <unk> 一</w> 一</w> 一</w> 一</w> 一</w> 一</w> 一</w> <unk> 一</w> 一</w> 一</w> 一</w> 一</w> 丈</w> 一</w> <unk> 丁</w> 一</w> 一</w> 一</w> 一</w> 上</w> 一</w> 一</w> 丄</w> 一</w> 一</w> 一</w> 一</w> 一</w> 一</w> 丄</w> 一</w> 一</w> 一</w> 丐</w> 丈</w> 一</w> 一</w> <unk> 一</w> 一</w> 一</w> 一</w> 一</w> 丄</w> 一</w> 一</w> 丁</w> 一</w> 一</w> 丠</w> 丐</w> 一</w> 一</w> <unk> 一</w> 一</w> 一</w> 一</w> 一</w> 丄</w> 一</w> 一</w> 丁</w> 一</w> 一</w> <unk> 丠</w> 一</w> 一</w> <unk> 一</w> 一</w> 一</w> 一</w> <unk> 一</w> 一</w> 丠</w> 丁</w> 一</w> 一</w> <unk> <unk> 一</w> 一</w> 一</w> 一</w> 一</w> 一</w> <unk> 丠</w> 一</w> 一</w> 一</w> 一</w> 一</w> 一</w> <unk> <unk> 一</w> 一</w> 一</w> 一</w> 一</w> 一</w> 一</w> 一</w> 一</w> 一</w> 一</w> 丂</w> 一</w> 一</w> 丈</w> 丄</w> 一</w> 一</w> 一</w> <unk> 丁</w> 一</w> 一</w> 一</w> 丄</w> 一</w> 一</w> 丁</w> 一</w> 一</w> 一</w> 一</w> 一</w> 一</w> 一</w> 丐</w> 一</w> 一</w> 丐</w> 丈</w> 一</w> 一</w> 一</w> <unk> 一</w> 一</w> 一</w> 一</w> 丂</w> 一</w> 一</w> 丁</w> 一</w> 一</w> 丠</w> 丐</w> 一</w> 一</w> 一</w> <unk> 一</w> 一</w> 一</w> <unk> 丁</w> 一</w> 丠</w> 丁</w> 一</w> 一</w> 丐</w> 一</w> 一</w> 一</w> 丌</w> 一</w> 一</w> 一</w> 丠</w> 一</w> 一</w> 一</w> 一</w> <unk> 一</w> 一</w> <unk> 丠</w> 一</w> 一</w> <unk> 且</w> 一</w> 一</w> 一</w> 丠</w> 丁</w> 一</w> 一</w> 一</w> 一</w> 一</w> 丠</w> 一</w> 一</w> 一</w> <unk> 丂</w> 一</w> 一</w> 丐</w> 丈</w> 一</w> <unk> 丂</w> 一</w> 一</w> 一</w> 一</w> 一</w> 丄</w> 一</w> 一</w> 丁</w> 一</w> 一</w> 丈</w> <unk> 一</w> <unk> 丅</w> 一</w> </s>,<s> 一</w> 一</w> 丁</w> 一</w> 一</w> 一</w> 一</w> 一</w> 一</w> <unk> 一</w> 一</w> 一</w> 一</w> 一</w> 一</w> 一</w> 一</w> 丠</w> 一</w> 一</w> 一</w> 一</w> 一</w> 一</w> 一</w> 丄</w> 一</w> 一</w> 一</w> 一</w> 一</w> 一</w> 一</w> 丁</w> 一</w> 一</w> 一</w> 一</w> 一</w> 丠</w> 一</w> 一</w> 一</w> 丈</w> 一</w> 一</w> 一</w> 一</w> 丄</w> 一</w> 一</w> 丄</w> 一</w> 一</w> 一</w> 一</w> 一</w> 一</w> <unk> 一</w> 一</w> 一</w> 一</w> <unk> 一</w> 一</w> 一</w> <unk> 一</w> 一</w> 一</w> 一</w> 一</w> 一</w> 一</w> 一</w> 丁</w> 一</w> 一</w> 一</w> 一</w> 一</w> <unk> 一</w> 丐</w> 一</w> 一</w> 一</w> 一</w> 一</w> 一</w> 丠</w> 一</w> 一</w> 一</w> 一</w> 一</w> 一</w> 一</w> 丄</w> 一</w> 一</w> 一</w> 一</w> 一</w> 一</w> 一</w> 丁</w> 一</w> 一</w> 一</w> 一</w> 一</w> 一</w> 丠</w> 一</w> 丈</w> 一</w> 一</w> 一</w> 一</w> 一</w> 一</w> 丐</w> 一</w> 一</w> 一</w> 一</w> 一</w> 一</w> 一</w> 丄</w> 一</w> 一</w> 一</w> 一</w> 一</w> 一</w> 一</w> 丁</w> 一</w> 一</w> 一</w> 一</w> 一</w> 一</w> <unk> 一</w> 丐</w> 一</w> 一</w> 一</w> 一</w> 一</w> 一</w> 丠</w> 一</w> 一</w> 一</w> 一</w> 一</w> 一</w> 一</w> 丄</w> 一</w> 一</w> 一</w> 一</w> 一</w> 一</w> 一</w> 丁</w> 一</w> 一</w> 一</w> 一</w> 一</w> 一</w> 一</w> 丂</w> <unk> 一</w> 一</w> 一</w> 一</w> 一</w> 一</w> 一</w> 丁</w> 一</w> 一</w> 一</w> 一</w> 一</w> 一</w> 丠</w> 一</w> 一</w> 一</w> 一</w> 一</w> 一</w> 一</w> 丈</w> 一</w> 一</w> 一</w> 一</w> 一</w> 一</w> 一</w> 丁</w> <unk> 一</w> 一</w> 一</w> 一</w> 一</w> 一</w> <unk> 一</w> 一</w> 一</w> 一</w> 一</w> 一</w> 一</w> 丈</w> 一</w> 一</w> 一</w> 一</w> 一</w> 一</w> <unk> 一</w> 丠</w> 一</w> 一</w> 一</w> 一</w> 一</w> 一</w> <unk> 一</w> 一</w> 一</w> 一</w> 一</w> 一</w> 一</w> 丈</w> 一</w> </s>,<s> 一</w> 一</w> 丠</w> 丂</w> 一</w> 一</w> 一</w> 一</w> 一</w> 一</w> 丈</w> 一</w> <unk> 丂</w> 一</w> 一</w> 一</w> 一</w> 丄</w> 一</w> 一</w> 丈</w> 一</w> 一</w> 一</w> 一</w> 一</w> 一</w> <unk> 一</w> 一</w> 一</w> 一</w> 一</w> 一</w> 一</w> 丠</w> 一</w> 一</w> 一</w> 一</w> 一</w> 丂</w> 一</w> 一</w> 一</w> 一</w> 一</w> 丐</w> 丐</w> 一</w> 一</w> 一</w> 一</w> 一</w> 一</w> 一</w> 丐</w> 丈</w> 一</w> 一</w> 一</w> 一</w> 一</w> 一</w> <unk> 丠</w> 一</w> 一</w> 一</w> 一</w> 一</w> 一</w> 一</w> <unk> 一</w> 一</w> 一</w> 一</w> 一</w> 一</w> 一</w> 丄</w> 一</w> 一</w> 一</w> 一</w> 一</w> 丠</w> 丐</w> 一</w> 一</w> <unk> <unk> 一</w> 一</w> 一</w> 丐</w> 丈</w> 一</w> 一</w> 一</w> 一</w> 一</w> 一</w> <unk> 丠</w> 一</w> 一</w> 一</w> 一</w> 一</w> 一</w> 一</w> <unk> 一</w> 一</w> 一</w> 一</w> 一</w> 一</w> 一</w> 丄</w> 丂</w> 一</w> 一</w> 一</w> 一</w> 一</w> 一</w> 一</w> 一</w> <unk> <unk> 一</w> 一</w> 一</w> 一</w> 一</w> 一</w> 一</w> 丈</w> 一</w> 一</w> <unk> 丠</w> 一</w> 一</w> 丠</w> 且</w> 一</w> 一</w> 一</w> 一</w> 且</w> 丅</w> 一</w> 一</w> 一</w> 一</w> 一</w> 一</w> <unk> 丄</w> 一</w> 一</w> 一</w> 一</w> 一</w> 一</w> 且</w> 丅</w> 一</w> <unk> 一</w> 一</w> 一</w> 一</w> 且</w> 丅</w> 一</w> 一</w> 一</w> 一</w> 一</w> 一</w> <unk> 丄</w> 一</w> 一</w> 一</w> 一</w> 一</w> 一</w> <unk> 丄</w> 一</w> <unk> 丄</w> 一</w> 一</w> 一</w> <unk> 丄</w> 一</w> 一</w> 一</w> 一</w> 一</w> 一</w> 且</w> 丅</w> 一</w> 一</w> 一</w> 一</w> 一</w> 一</w> 且</w> 丅</w> 一</w> <unk> <unk> 一</w> 一</w> 一</w> 且</w> 丅</w> 一</w> 一</w> 一</w> 一</w> 一</w> 一</w> <unk> 丄</w> 一</w> 一</w> 一</w> 一</w> <unk> 丠</w> 一</w> 一</w> 一</w> <unk> 且</w> 一</w> 一</w> 一</w> <unk> 丄</w> 一</w> 一</w> </s>\n",
       "y: CategoryList\n",
       "Mozart,Chopin,Schumann,Schumann,Liszt\n",
       "Path: /home/dyang/.fastai/data/bscore_lm/bpe_data;\n",
       "\n",
       "Valid: LabelList (10800 items)\n",
       "x: TextList\n",
       "<s> 一</w> 一</w> 丈</w> 一</w> 一</w> 丠</w> 一</w> 一</w> 一</w> 一</w> 一</w> <unk> 一</w> 一</w> 一</w> 一</w> 一</w> 一</w> 丐</w> 一</w> 一</w> <unk> 一</w> 一</w> 一</w> 一</w> 一</w> <unk> 一</w> 一</w> 一</w> 一</w> 一</w> 一</w> 丠</w> 一</w> 一</w> 丈</w> 一</w> 一</w> 一</w> 一</w> 一</w> <unk> 一</w> 一</w> 一</w> 一</w> 一</w> 一</w> 丠</w> 一</w> 一</w> 丈</w> 一</w> 一</w> 一</w> 一</w> 一</w> <unk> 一</w> 一</w> 一</w> 一</w> 一</w> 一</w> 丠</w> 一</w> 一</w> 丈</w> 一</w> 一</w> 一</w> 一</w> 一</w> <unk> 一</w> 一</w> 一</w> 一</w> 一</w> 丂</w> 一</w> 一</w> 一</w> 丄</w> 一</w> 一</w> 一</w> 丈</w> 一</w> 一</w> 一</w> 一</w> 一</w> 一</w> 一</w> 丂</w> 一</w> 一</w> 一</w> 丄</w> 一</w> 一</w> 一</w> 丈</w> 一</w> 一</w> 一</w> 一</w> 一</w> 一</w> 一</w> 丂</w> 一</w> 一</w> 一</w> 丄</w> 一</w> 一</w> 一</w> 丈</w> 一</w> 一</w> 一</w> 一</w> 一</w> 一</w> 一</w> 丄</w> 一</w> 一</w> 一</w> 丂</w> 一</w> 一</w> 一</w> <unk> 一</w> 一</w> 一</w> 一</w> 一</w> 一</w> 一</w> 丄</w> 一</w> 一</w> 一</w> 丂</w> 一</w> 一</w> 一</w> <unk> 一</w> 一</w> 一</w> 一</w> 一</w> 一</w> 一</w> 丄</w> 一</w> 一</w> 一</w> 丂</w> 一</w> 一</w> 一</w> <unk> 一</w> 一</w> 一</w> 一</w> 一</w> 一</w> 一</w> 丈</w> 一</w> 一</w> <unk> 一</w> 一</w> 一</w> 一</w> 丠</w> 一</w> 一</w> 一</w> 一</w> 一</w> 一</w> 一</w> 丈</w> 一</w> 一</w> <unk> 一</w> 一</w> 一</w> 一</w> 丠</w> 一</w> 一</w> 一</w> 一</w> 一</w> 一</w> 一</w> 丈</w> 一</w> 一</w> <unk> 一</w> 一</w> 一</w> 一</w> 丠</w> 一</w> 一</w> 一</w> 一</w> 一</w> 一</w> 一</w> 丄</w> 一</w> 一</w> 一</w> 一</w> 一</w> 一</w> 一</w> 一</w> 一</w> 一</w> <unk> 一</w> 一</w> 一</w> 一</w> 一</w> 一</w> 一</w> 一</w> 丁</w> 一</w> 一</w> 一</w> 一</w> 一</w> 一</w> 一</w> 丂</w> </s>,<s> 一</w> 丐</w> 丈</w> 一</w> 丠</w> 丒</w> 一</w> 一</w> 一</w> 一</w> <unk> <unk> 一</w> 丂</w> 一</w> 一</w> 一</w> 一</w> <unk> <unk> 一</w> 丂</w> 一</w> 一</w> 一</w> 一</w> 一</w> 一</w> <unk> 丠</w> 一</w> 一</w> 一</w> 一</w> <unk> 丑</w> <unk> <unk> 一</w> 一</w> 一</w> 一</w> <unk> 丑</w> 一</w> 丂</w> 一</w> 一</w> 一</w> 一</w> <unk> <unk> 一</w> 丂</w> 一</w> 一</w> 一</w> 一</w> 一</w> 一</w> <unk> <unk> 一</w> 一</w> 一</w> 丐</w> 丈</w> 一</w> 一</w> 丢</w> 一</w> 一</w> 一</w> 一</w> 丠</w> 丁</w> 一</w> 丢</w> 一</w> 一</w> 一</w> 一</w> 丠</w> 丁</w> <unk> <unk> 一</w> 一</w> 一</w> 丈</w> 丄</w> 一</w> <unk> <unk> 一</w> 一</w> 一</w> 一</w> 丐</w> 三</w> 一</w> 丒</w> 一</w> 一</w> 一</w> 一</w> 丐</w> 三</w> 一</w> 丒</w> 一</w> 一</w> 一</w> 一</w> <unk> 丈</w> 一</w> <unk> 一</w> 一</w> 一</w> 一</w> <unk> 丈</w> 一</w> 丑</w> 一</w> 一</w> 一</w> 一</w> <unk> 丈</w> 一</w> 丑</w> 一</w> 一</w> 一</w> 丈</w> 丄</w> 一</w> 一</w> <unk> 一</w> 一</w> 一</w> 一</w> <unk> 丈</w> 一</w> <unk> 一</w> 一</w> 一</w> 一</w> <unk> 丈</w> 一</w> <unk> 一</w> 一</w> 一</w> 一</w> 一</w> 一</w> 一</w> <unk> 一</w> 一</w> 一</w> 丄</w> 丂</w> 一</w> 一</w> <unk> 一</w> 一</w> 一</w> 一</w> <unk> <unk> 一</w> <unk> 一</w> 一</w> 一</w> 一</w> <unk> <unk> 一</w> <unk> 丁</w> 一</w> 一</w> 一</w> <unk> <unk> 一</w> <unk> 一</w> 一</w> 一</w> 一</w> 一</w> 一</w> 一</w> 丈</w> 丄</w> 一</w> 一</w> 一</w> <unk> <unk> 一</w> <unk> 一</w> 一</w> 一</w> 一</w> <unk> <unk> 一</w> <unk> 一</w> 一</w> 一</w> 一</w> 一</w> 一</w> 一</w> 丈</w> 丄</w> 一</w> 一</w> 一</w> <unk> <unk> 一</w> <unk> 一</w> 一</w> 一</w> 一</w> <unk> <unk> 一</w> <unk> 一</w> 一</w> 一</w> 一</w> 一</w> 一</w> 一</w> 丈</w> </s>,<s> 一</w> 一</w> 一</w> 一</w> 丂</w> 一</w> 一</w> 一</w> 一</w> 一</w> <unk> 一</w> 丄</w> 一</w> 一</w> 一</w> 一</w> 丐</w> 一</w> 一</w> 一</w> 一</w> 一</w> 一</w> 一</w> 丒</w> 一</w> 一</w> 一</w> 一</w> 一</w> 一</w> 一</w> 一</w> 一</w> 一</w> 丂</w> 一</w> 一</w> 一</w> 一</w> 一</w> <unk> 一</w> 丂</w> 一</w> 一</w> 一</w> 一</w> 一</w> 一</w> 一</w> 丄</w> 一</w> 一</w> 一</w> 一</w> 一</w> 丢</w> 一</w> 丈</w> 一</w> 一</w> 一</w> 丐</w> 丐</w> 一</w> 一</w> 一</w> 一</w> 一</w> 一</w> 一</w> 丂</w> 一</w> 一</w> 一</w> 一</w> 一</w> 一</w> 一</w> 一</w> 丢</w> 一</w> 一</w> 一</w> 一</w> 一</w> 一</w> 丐</w> 一</w> 一</w> 丈</w> 一</w> 一</w> 一</w> 一</w> 丂</w> 一</w> 一</w> <unk> 丂</w> 一</w> 一</w> 一</w> 一</w> 一</w> 一</w> <unk> 丂</w> 一</w> 一</w> 一</w> 一</w> 一</w> 一</w> 丂</w> 一</w> 一</w> 一</w> 一</w> 一</w> <unk> 一</w> 丄</w> 一</w> 一</w> 一</w> 一</w> 丒</w> <unk> 一</w> 丄</w> 一</w> 一</w> 一</w> 一</w> 一</w> 一</w> 一</w> 丈</w> 一</w> 一</w> 一</w> 一</w> 一</w> <unk> 一</w> 丄</w> 一</w> 一</w> 一</w> 一</w> 一</w> 一</w> 一</w> 丈</w> 一</w> 一</w> 一</w> 一</w> 一</w> 丠</w> 一</w> 丄</w> 一</w> 一</w> 一</w> 一</w> 一</w> 一</w> 一</w> 丈</w> 一</w> 一</w> 一</w> 一</w> 一</w> 丠</w> 一</w> 丄</w> 一</w> 一</w> 一</w> 一</w> 一</w> 一</w> 一</w> 丈</w> 一</w> 一</w> 一</w> 一</w> 一</w> <unk> 一</w> 丐</w> 一</w> 一</w> 一</w> 丠</w> 一</w> 一</w> 一</w> 一</w> 一</w> 一</w> 一</w> 一</w> 丁</w> 一</w> 一</w> 一</w> 一</w> 一</w> 一</w> 一</w> 丐</w> 一</w> 一</w> 一</w> 一</w> 一</w> 一</w> 一</w> 一</w> 丂</w> 一</w> 一</w> 一</w> 一</w> 一</w> 一</w> 一</w> <unk> 一</w> 一</w> 一</w> 一</w> 一</w> 一</w> 一</w> 一</w> 一</w> <unk> 一</w> 一</w> 一</w> 一</w> 一</w> 一</w> 一</w> <unk> 一</w> </s>,<s> 一</w> 一</w> 一</w> 丂</w> 丠</w> 丁</w> 一</w> 一</w> 一</w> 一</w> 一</w> 一</w> 一</w> 丁</w> 一</w> 一</w> 一</w> 一</w> 一</w> 一</w> 一</w> 丁</w> 一</w> 一</w> 一</w> 一</w> 丄</w> 一</w> 一</w> 丁</w> 一</w> 一</w> 一</w> 一</w> <unk> 一</w> 一</w> 一</w> 一</w> 一</w> 一</w> 一</w> 丄</w> 一</w> 一</w> 一</w> 一</w> 一</w> 一</w> 一</w> <unk> 一</w> <unk> 一</w> 一</w> 一</w> 一</w> 一</w> 丄</w> 一</w> <unk> 一</w> 一</w> 一</w> 一</w> 一</w> <unk> 一</w> 丠</w> 一</w> 一</w> 一</w> 一</w> 一</w> 丈</w> 一</w> 丠</w> 一</w> 一</w> 一</w> 一</w> 一</w> <unk> 一</w> 一</w> 一</w> 一</w> 一</w> 一</w> 一</w> 丈</w> 一</w> <unk> 一</w> 一</w> 一</w> 一</w> 一</w> <unk> 一</w> 一</w> 一</w> 一</w> 一</w> 一</w> 一</w> 丠</w> 一</w> 一</w> <unk> 一</w> 一</w> 一</w> 一</w> <unk> 一</w> 一</w> 一</w> 一</w> 一</w> 一</w> 一</w> 一</w> 一</w> 一</w> <unk> 一</w> 一</w> 一</w> 一</w> 丄</w> 一</w> 一</w> <unk> 一</w> 一</w> 一</w> 一</w> <unk> 一</w> 一</w> 一</w> 一</w> 一</w> 一</w> 一</w> 丄</w> 一</w> 一</w> 一</w> 一</w> 一</w> 一</w> 一</w> <unk> 一</w> 一</w> 丂</w> 丁</w> 一</w> 一</w> 一</w> 丄</w> 一</w> 一</w> <unk> 一</w> 一</w> 一</w> 一</w> <unk> 一</w> <unk> <unk> 一</w> 一</w> 一</w> 一</w> 丈</w> <unk> 一</w> 一</w> 一</w> 一</w> 一</w> 一</w> 丈</w> 一</w> <unk> <unk> 一</w> 一</w> 一</w> 一</w> <unk> 一</w> 一</w> 一</w> 一</w> 一</w> 一</w> 一</w> 丈</w> 一</w> <unk> 丠</w> 一</w> 一</w> 一</w> 一</w> <unk> 一</w> 一</w> 一</w> 一</w> 一</w> 一</w> 一</w> 丠</w> 一</w> 一</w> 丁</w> 一</w> 一</w> 一</w> 一</w> <unk> 一</w> 一</w> 一</w> 一</w> 一</w> 一</w> 一</w> 一</w> 一</w> 一</w> 丁</w> 一</w> 一</w> 一</w> 一</w> 丄</w> 一</w> 一</w> 丁</w> 一</w> 一</w> 一</w> 一</w> <unk> 一</w> 一</w> 一</w> </s>,<s> 一</w> 一</w> 一</w> 一</w> 一</w> <unk> 一</w> 一</w> 一</w> 一</w> 三</w> 丢</w> 一</w> 丐</w> 丂</w> 一</w> 一</w> 一</w> 一</w> 一</w> <unk> 一</w> 一</w> 一</w> 一</w> 一</w> 一</w> 一</w> 一</w> 丐</w> 丈</w> 一</w> 一</w> 一</w> 一</w> 一</w> 一</w> 一</w> 丂</w> 一</w> 一</w> 丒</w> 一</w> 一</w> 一</w> 一</w> 一</w> 一</w> 一</w> 一</w> 一</w> 一</w> 一</w> 丐</w> 一</w> 一</w> 一</w> 一</w> <unk> 丂</w> 丠</w> 丂</w> 一</w> 一</w> 一</w> 一</w> 一</w> 一</w> 一</w> <unk> 一</w> 一</w> 一</w> 一</w> 一</w> 一</w> <unk> 一</w> 一</w> 一</w> 一</w> 一</w> <unk> 丂</w> 丠</w> 丄</w> 一</w> 一</w> 一</w> 丑</w> 一</w> 一</w> <unk> 一</w> 一</w> 一</w> 一</w> 一</w> 一</w> 一</w> 一</w> 丠</w> 一</w> 一</w> 一</w> 一</w> 一</w> 一</w> 一</w> 丐</w> 一</w> 一</w> 一</w> 丒</w> <unk> 丂</w> 一</w> 一</w> 一</w> 一</w> 一</w> 一</w> 一</w> 一</w> 一</w> <unk> 一</w> 一</w> 一</w> 一</w> 一</w> 一</w> 丄</w> 丐</w> 一</w> 一</w> 一</w> 一</w> 一</w> 一</w> 丁</w> 一</w> 一</w> 一</w> 一</w> 一</w> 一</w> 一</w> 丈</w> 丐</w> 一</w> 一</w> 一</w> 一</w> 一</w> 一</w> 一</w> 丐</w> 一</w> 一</w> 一</w> 一</w> 一</w> 一</w> 丠</w> 丄</w> 一</w> 一</w> 一</w> 一</w> 一</w> 一</w> 丈</w> 一</w> 一</w> 一</w> 一</w> 丑</w> <unk> 一</w> 一</w> 一</w> 一</w> 一</w> 一</w> 一</w> 一</w> 一</w> 一</w> 丐</w> 一</w> 一</w> 一</w> 一</w> 丠</w> 一</w> 丠</w> 丂</w> 一</w> 一</w> 一</w> 一</w> 丠</w> 一</w> 一</w> 丁</w> 一</w> 一</w> 一</w> 一</w> 一</w> 一</w> <unk> 一</w> 一</w> 一</w> 一</w> <unk> 丐</w> 一</w> 一</w> 丄</w> 一</w> 一</w> 一</w> <unk> 一</w> 一</w> 一</w> 一</w> 一</w> 一</w> 一</w> 一</w> <unk> 一</w> 一</w> 一</w> 一</w> 一</w> 一</w> 丒</w> <unk> 丂</w> 一</w> 一</w> 一</w> 一</w> 一</w> 一</w> 一</w> 一</w> 一</w> 丐</w> </s>\n",
       "y: CategoryList\n",
       "Haydn,Scriabin,Scriabin,Schubert,Scriabin\n",
       "Path: /home/dyang/.fastai/data/bscore_lm/bpe_data;\n",
       "\n",
       "Test: None, model=RobertaModelWrapper(\n",
       "  (transformer): RobertaForSequenceClassification(\n",
       "    (roberta): RobertaModel(\n",
       "      (embeddings): RobertaEmbeddings(\n",
       "        (word_embeddings): Embedding(30000, 768, padding_idx=0)\n",
       "        (position_embeddings): Embedding(514, 768)\n",
       "        (token_type_embeddings): Embedding(1, 768)\n",
       "        (LayerNorm): LayerNorm((768,), eps=1e-05, elementwise_affine=True)\n",
       "        (dropout): Dropout(p=0.1, inplace=False)\n",
       "      )\n",
       "      (encoder): BertEncoder(\n",
       "        (layer): ModuleList(\n",
       "          (0): BertLayer(\n",
       "            (attention): BertAttention(\n",
       "              (self): BertSelfAttention(\n",
       "                (query): Linear(in_features=768, out_features=768, bias=True)\n",
       "                (key): Linear(in_features=768, out_features=768, bias=True)\n",
       "                (value): Linear(in_features=768, out_features=768, bias=True)\n",
       "                (dropout): Dropout(p=0.1, inplace=False)\n",
       "              )\n",
       "              (output): BertSelfOutput(\n",
       "                (dense): Linear(in_features=768, out_features=768, bias=True)\n",
       "                (LayerNorm): LayerNorm((768,), eps=1e-05, elementwise_affine=True)\n",
       "                (dropout): Dropout(p=0.1, inplace=False)\n",
       "              )\n",
       "            )\n",
       "            (intermediate): BertIntermediate(\n",
       "              (dense): Linear(in_features=768, out_features=3072, bias=True)\n",
       "            )\n",
       "            (output): BertOutput(\n",
       "              (dense): Linear(in_features=3072, out_features=768, bias=True)\n",
       "              (LayerNorm): LayerNorm((768,), eps=1e-05, elementwise_affine=True)\n",
       "              (dropout): Dropout(p=0.1, inplace=False)\n",
       "            )\n",
       "          )\n",
       "          (1): BertLayer(\n",
       "            (attention): BertAttention(\n",
       "              (self): BertSelfAttention(\n",
       "                (query): Linear(in_features=768, out_features=768, bias=True)\n",
       "                (key): Linear(in_features=768, out_features=768, bias=True)\n",
       "                (value): Linear(in_features=768, out_features=768, bias=True)\n",
       "                (dropout): Dropout(p=0.1, inplace=False)\n",
       "              )\n",
       "              (output): BertSelfOutput(\n",
       "                (dense): Linear(in_features=768, out_features=768, bias=True)\n",
       "                (LayerNorm): LayerNorm((768,), eps=1e-05, elementwise_affine=True)\n",
       "                (dropout): Dropout(p=0.1, inplace=False)\n",
       "              )\n",
       "            )\n",
       "            (intermediate): BertIntermediate(\n",
       "              (dense): Linear(in_features=768, out_features=3072, bias=True)\n",
       "            )\n",
       "            (output): BertOutput(\n",
       "              (dense): Linear(in_features=3072, out_features=768, bias=True)\n",
       "              (LayerNorm): LayerNorm((768,), eps=1e-05, elementwise_affine=True)\n",
       "              (dropout): Dropout(p=0.1, inplace=False)\n",
       "            )\n",
       "          )\n",
       "          (2): BertLayer(\n",
       "            (attention): BertAttention(\n",
       "              (self): BertSelfAttention(\n",
       "                (query): Linear(in_features=768, out_features=768, bias=True)\n",
       "                (key): Linear(in_features=768, out_features=768, bias=True)\n",
       "                (value): Linear(in_features=768, out_features=768, bias=True)\n",
       "                (dropout): Dropout(p=0.1, inplace=False)\n",
       "              )\n",
       "              (output): BertSelfOutput(\n",
       "                (dense): Linear(in_features=768, out_features=768, bias=True)\n",
       "                (LayerNorm): LayerNorm((768,), eps=1e-05, elementwise_affine=True)\n",
       "                (dropout): Dropout(p=0.1, inplace=False)\n",
       "              )\n",
       "            )\n",
       "            (intermediate): BertIntermediate(\n",
       "              (dense): Linear(in_features=768, out_features=3072, bias=True)\n",
       "            )\n",
       "            (output): BertOutput(\n",
       "              (dense): Linear(in_features=3072, out_features=768, bias=True)\n",
       "              (LayerNorm): LayerNorm((768,), eps=1e-05, elementwise_affine=True)\n",
       "              (dropout): Dropout(p=0.1, inplace=False)\n",
       "            )\n",
       "          )\n",
       "          (3): BertLayer(\n",
       "            (attention): BertAttention(\n",
       "              (self): BertSelfAttention(\n",
       "                (query): Linear(in_features=768, out_features=768, bias=True)\n",
       "                (key): Linear(in_features=768, out_features=768, bias=True)\n",
       "                (value): Linear(in_features=768, out_features=768, bias=True)\n",
       "                (dropout): Dropout(p=0.1, inplace=False)\n",
       "              )\n",
       "              (output): BertSelfOutput(\n",
       "                (dense): Linear(in_features=768, out_features=768, bias=True)\n",
       "                (LayerNorm): LayerNorm((768,), eps=1e-05, elementwise_affine=True)\n",
       "                (dropout): Dropout(p=0.1, inplace=False)\n",
       "              )\n",
       "            )\n",
       "            (intermediate): BertIntermediate(\n",
       "              (dense): Linear(in_features=768, out_features=3072, bias=True)\n",
       "            )\n",
       "            (output): BertOutput(\n",
       "              (dense): Linear(in_features=3072, out_features=768, bias=True)\n",
       "              (LayerNorm): LayerNorm((768,), eps=1e-05, elementwise_affine=True)\n",
       "              (dropout): Dropout(p=0.1, inplace=False)\n",
       "            )\n",
       "          )\n",
       "          (4): BertLayer(\n",
       "            (attention): BertAttention(\n",
       "              (self): BertSelfAttention(\n",
       "                (query): Linear(in_features=768, out_features=768, bias=True)\n",
       "                (key): Linear(in_features=768, out_features=768, bias=True)\n",
       "                (value): Linear(in_features=768, out_features=768, bias=True)\n",
       "                (dropout): Dropout(p=0.1, inplace=False)\n",
       "              )\n",
       "              (output): BertSelfOutput(\n",
       "                (dense): Linear(in_features=768, out_features=768, bias=True)\n",
       "                (LayerNorm): LayerNorm((768,), eps=1e-05, elementwise_affine=True)\n",
       "                (dropout): Dropout(p=0.1, inplace=False)\n",
       "              )\n",
       "            )\n",
       "            (intermediate): BertIntermediate(\n",
       "              (dense): Linear(in_features=768, out_features=3072, bias=True)\n",
       "            )\n",
       "            (output): BertOutput(\n",
       "              (dense): Linear(in_features=3072, out_features=768, bias=True)\n",
       "              (LayerNorm): LayerNorm((768,), eps=1e-05, elementwise_affine=True)\n",
       "              (dropout): Dropout(p=0.1, inplace=False)\n",
       "            )\n",
       "          )\n",
       "          (5): BertLayer(\n",
       "            (attention): BertAttention(\n",
       "              (self): BertSelfAttention(\n",
       "                (query): Linear(in_features=768, out_features=768, bias=True)\n",
       "                (key): Linear(in_features=768, out_features=768, bias=True)\n",
       "                (value): Linear(in_features=768, out_features=768, bias=True)\n",
       "                (dropout): Dropout(p=0.1, inplace=False)\n",
       "              )\n",
       "              (output): BertSelfOutput(\n",
       "                (dense): Linear(in_features=768, out_features=768, bias=True)\n",
       "                (LayerNorm): LayerNorm((768,), eps=1e-05, elementwise_affine=True)\n",
       "                (dropout): Dropout(p=0.1, inplace=False)\n",
       "              )\n",
       "            )\n",
       "            (intermediate): BertIntermediate(\n",
       "              (dense): Linear(in_features=768, out_features=3072, bias=True)\n",
       "            )\n",
       "            (output): BertOutput(\n",
       "              (dense): Linear(in_features=3072, out_features=768, bias=True)\n",
       "              (LayerNorm): LayerNorm((768,), eps=1e-05, elementwise_affine=True)\n",
       "              (dropout): Dropout(p=0.1, inplace=False)\n",
       "            )\n",
       "          )\n",
       "        )\n",
       "      )\n",
       "      (pooler): BertPooler(\n",
       "        (dense): Linear(in_features=768, out_features=768, bias=True)\n",
       "        (activation): Tanh()\n",
       "      )\n",
       "    )\n",
       "    (classifier): RobertaClassificationHead(\n",
       "      (dense): Linear(in_features=768, out_features=768, bias=True)\n",
       "      (dropout): Dropout(p=0.1, inplace=False)\n",
       "      (out_proj): Linear(in_features=768, out_features=9, bias=True)\n",
       "    )\n",
       "  )\n",
       "), opt_func=functools.partial(<class 'torch.optim.adam.Adam'>, betas=(0.9, 0.99)), loss_func=FlattenedLoss of CrossEntropyLoss(), metrics=[<function accuracy at 0x7f22be45a158>, FBeta(average=None, pos_label=1, eps=1e-09, beta=1)], true_wd=True, bn_wd=True, wd=0.01, train_bn=True, path=PosixPath('/home/dyang/.fastai/data/bscore_lm/bpe_data'), model_dir='models', callback_fns=[functools.partial(<class 'fastai.basic_train.Recorder'>, add_time=True, silent=False)], callbacks=[], layer_groups=[Sequential(\n",
       "  (0): Embedding(30000, 768, padding_idx=0)\n",
       "  (1): Embedding(514, 768)\n",
       "  (2): Embedding(1, 768)\n",
       "  (3): LayerNorm((768,), eps=1e-05, elementwise_affine=True)\n",
       "  (4): Dropout(p=0.1, inplace=False)\n",
       "), Sequential(\n",
       "  (0): Linear(in_features=768, out_features=768, bias=True)\n",
       "  (1): Linear(in_features=768, out_features=768, bias=True)\n",
       "  (2): Linear(in_features=768, out_features=768, bias=True)\n",
       "  (3): Dropout(p=0.1, inplace=False)\n",
       "  (4): Linear(in_features=768, out_features=768, bias=True)\n",
       "  (5): LayerNorm((768,), eps=1e-05, elementwise_affine=True)\n",
       "  (6): Dropout(p=0.1, inplace=False)\n",
       "  (7): Linear(in_features=768, out_features=3072, bias=True)\n",
       "  (8): Linear(in_features=3072, out_features=768, bias=True)\n",
       "  (9): LayerNorm((768,), eps=1e-05, elementwise_affine=True)\n",
       "  (10): Dropout(p=0.1, inplace=False)\n",
       "), Sequential(\n",
       "  (0): Linear(in_features=768, out_features=768, bias=True)\n",
       "  (1): Linear(in_features=768, out_features=768, bias=True)\n",
       "  (2): Linear(in_features=768, out_features=768, bias=True)\n",
       "  (3): Dropout(p=0.1, inplace=False)\n",
       "  (4): Linear(in_features=768, out_features=768, bias=True)\n",
       "  (5): LayerNorm((768,), eps=1e-05, elementwise_affine=True)\n",
       "  (6): Dropout(p=0.1, inplace=False)\n",
       "  (7): Linear(in_features=768, out_features=3072, bias=True)\n",
       "  (8): Linear(in_features=3072, out_features=768, bias=True)\n",
       "  (9): LayerNorm((768,), eps=1e-05, elementwise_affine=True)\n",
       "  (10): Dropout(p=0.1, inplace=False)\n",
       "), Sequential(\n",
       "  (0): Linear(in_features=768, out_features=768, bias=True)\n",
       "  (1): Linear(in_features=768, out_features=768, bias=True)\n",
       "  (2): Linear(in_features=768, out_features=768, bias=True)\n",
       "  (3): Dropout(p=0.1, inplace=False)\n",
       "  (4): Linear(in_features=768, out_features=768, bias=True)\n",
       "  (5): LayerNorm((768,), eps=1e-05, elementwise_affine=True)\n",
       "  (6): Dropout(p=0.1, inplace=False)\n",
       "  (7): Linear(in_features=768, out_features=3072, bias=True)\n",
       "  (8): Linear(in_features=3072, out_features=768, bias=True)\n",
       "  (9): LayerNorm((768,), eps=1e-05, elementwise_affine=True)\n",
       "  (10): Dropout(p=0.1, inplace=False)\n",
       "), Sequential(\n",
       "  (0): Linear(in_features=768, out_features=768, bias=True)\n",
       "  (1): Linear(in_features=768, out_features=768, bias=True)\n",
       "  (2): Linear(in_features=768, out_features=768, bias=True)\n",
       "  (3): Dropout(p=0.1, inplace=False)\n",
       "  (4): Linear(in_features=768, out_features=768, bias=True)\n",
       "  (5): LayerNorm((768,), eps=1e-05, elementwise_affine=True)\n",
       "  (6): Dropout(p=0.1, inplace=False)\n",
       "  (7): Linear(in_features=768, out_features=3072, bias=True)\n",
       "  (8): Linear(in_features=3072, out_features=768, bias=True)\n",
       "  (9): LayerNorm((768,), eps=1e-05, elementwise_affine=True)\n",
       "  (10): Dropout(p=0.1, inplace=False)\n",
       "), Sequential(\n",
       "  (0): Linear(in_features=768, out_features=768, bias=True)\n",
       "  (1): Linear(in_features=768, out_features=768, bias=True)\n",
       "  (2): Linear(in_features=768, out_features=768, bias=True)\n",
       "  (3): Dropout(p=0.1, inplace=False)\n",
       "  (4): Linear(in_features=768, out_features=768, bias=True)\n",
       "  (5): LayerNorm((768,), eps=1e-05, elementwise_affine=True)\n",
       "  (6): Dropout(p=0.1, inplace=False)\n",
       "  (7): Linear(in_features=768, out_features=3072, bias=True)\n",
       "  (8): Linear(in_features=3072, out_features=768, bias=True)\n",
       "  (9): LayerNorm((768,), eps=1e-05, elementwise_affine=True)\n",
       "  (10): Dropout(p=0.1, inplace=False)\n",
       "), Sequential(\n",
       "  (0): Linear(in_features=768, out_features=768, bias=True)\n",
       "  (1): Linear(in_features=768, out_features=768, bias=True)\n",
       "  (2): Linear(in_features=768, out_features=768, bias=True)\n",
       "  (3): Dropout(p=0.1, inplace=False)\n",
       "  (4): Linear(in_features=768, out_features=768, bias=True)\n",
       "  (5): LayerNorm((768,), eps=1e-05, elementwise_affine=True)\n",
       "  (6): Dropout(p=0.1, inplace=False)\n",
       "  (7): Linear(in_features=768, out_features=3072, bias=True)\n",
       "  (8): Linear(in_features=3072, out_features=768, bias=True)\n",
       "  (9): LayerNorm((768,), eps=1e-05, elementwise_affine=True)\n",
       "  (10): Dropout(p=0.1, inplace=False)\n",
       "), Sequential(\n",
       "  (0): Linear(in_features=768, out_features=768, bias=True)\n",
       "  (1): Tanh()\n",
       "  (2): Linear(in_features=768, out_features=768, bias=True)\n",
       "  (3): Dropout(p=0.1, inplace=False)\n",
       "  (4): Linear(in_features=768, out_features=9, bias=True)\n",
       ")], add_time=True, silent=False)"
      ]
     },
     "execution_count": 29,
     "metadata": {},
     "output_type": "execute_result"
    }
   ],
   "source": [
    "#learner.save('roberta_train-target_clas')\n",
    "learner.load('final_models/roberta_train-target_clas')"
   ]
  },
  {
   "cell_type": "markdown",
   "metadata": {},
   "source": [
    "### Evaluate Classifier"
   ]
  },
  {
   "cell_type": "markdown",
   "metadata": {},
   "source": [
    "Evaluate on the proxy task -- classifying fixed-length chunks of bootleg score features."
   ]
  },
  {
   "cell_type": "code",
   "execution_count": 30,
   "metadata": {},
   "outputs": [
    {
     "data": {
      "text/html": [],
      "text/plain": [
       "<IPython.core.display.HTML object>"
      ]
     },
     "metadata": {},
     "output_type": "display_data"
    },
    {
     "data": {
      "text/html": [],
      "text/plain": [
       "<IPython.core.display.HTML object>"
      ]
     },
     "metadata": {},
     "output_type": "display_data"
    }
   ],
   "source": [
    "data_clas_test = TextDataBunch.from_df(bpe_path, train_df, test_df, tokenizer=cust_tok, vocab=transformer_vocab,\n",
    "                                  include_bos=False, include_eos=False, pad_first=False, pad_idx=pad_idx, \n",
    "                                  bs=bs, num_workers=1)"
   ]
  },
  {
   "cell_type": "code",
   "execution_count": 31,
   "metadata": {},
   "outputs": [
    {
     "data": {
      "text/html": [],
      "text/plain": [
       "<IPython.core.display.HTML object>"
      ]
     },
     "metadata": {},
     "output_type": "display_data"
    },
    {
     "data": {
      "text/plain": [
       "[4.1596565,\n",
       " tensor(0.1157),\n",
       " tensor(0.),\n",
       " tensor(0.1907),\n",
       " tensor(0.),\n",
       " tensor(0.),\n",
       " tensor(0.1831),\n",
       " tensor(0.),\n",
       " tensor(0.),\n",
       " tensor(0.),\n",
       " tensor(0.)]"
      ]
     },
     "execution_count": 31,
     "metadata": {},
     "output_type": "execute_result"
    }
   ],
   "source": [
    "learner.validate(data_clas_test.valid_dl)"
   ]
  },
  {
   "cell_type": "markdown",
   "metadata": {},
   "source": [
    "Evaluate on the original task -- classifying pages of sheet music.  We can evaluate our models in two ways:\n",
    "- applying the model to a variable length sequence\n",
    "- applying the model to multiple fixed-length windows and averaging the predictions\n",
    "\n",
    "First we evaluate the model on variable length inputs.  Report results with and without applying priors."
   ]
  },
  {
   "cell_type": "code",
   "execution_count": 35,
   "metadata": {},
   "outputs": [],
   "source": [
    "train_fullpage_df = pd.read_csv(bpe_path/'train.fullpage.char.csv')\n",
    "valid_fullpage_df = pd.read_csv(bpe_path/'valid.fullpage.char.csv')\n",
    "test_fullpage_df = pd.read_csv(bpe_path/'test.fullpage.char.csv')"
   ]
  },
  {
   "cell_type": "code",
   "execution_count": 36,
   "metadata": {},
   "outputs": [
    {
     "data": {
      "text/html": [],
      "text/plain": [
       "<IPython.core.display.HTML object>"
      ]
     },
     "metadata": {},
     "output_type": "display_data"
    },
    {
     "data": {
      "text/html": [],
      "text/plain": [
       "<IPython.core.display.HTML object>"
      ]
     },
     "metadata": {},
     "output_type": "display_data"
    },
    {
     "data": {
      "text/html": [],
      "text/plain": [
       "<IPython.core.display.HTML object>"
      ]
     },
     "metadata": {},
     "output_type": "display_data"
    }
   ],
   "source": [
    "data_clas_test = TextDataBunch.from_df(bpe_path, train_fullpage_df, valid_fullpage_df, test_fullpage_df,\n",
    "                                       tokenizer=cust_tok, vocab=transformer_vocab, include_bos=False, \n",
    "                                       include_eos=False, pad_first=False, pad_idx=pad_idx, bs=bs, num_workers=1)"
   ]
  },
  {
   "cell_type": "code",
   "execution_count": 37,
   "metadata": {},
   "outputs": [
    {
     "data": {
      "text/html": [],
      "text/plain": [
       "<IPython.core.display.HTML object>"
      ]
     },
     "metadata": {},
     "output_type": "display_data"
    },
    {
     "data": {
      "text/plain": [
       "((0.1050613522529602, 0.2691717743873596),\n",
       " (0.04192628190778085, 0.04712990932829034))"
      ]
     },
     "execution_count": 37,
     "metadata": {},
     "output_type": "execute_result"
    }
   ],
   "source": [
    "(acc, acc_with_prior), (f1, f1_with_prior) = eval_models.calcAccuracy_fullpage(learner, bpe_path, train_fullpage_df, valid_fullpage_df, test_fullpage_df, databunch=data_clas_test)\n",
    "(acc, acc_with_prior), (f1, f1_with_prior)"
   ]
  },
  {
   "cell_type": "code",
   "execution_count": null,
   "metadata": {},
   "outputs": [],
   "source": [
    ".558"
   ]
  },
  {
   "cell_type": "markdown",
   "metadata": {},
   "source": [
    "Now we evaluate the model by considering multiple fixed-length windows and averaging the predictions."
   ]
  },
  {
   "cell_type": "code",
   "execution_count": 20,
   "metadata": {},
   "outputs": [],
   "source": [
    "test_ensemble_df = pd.read_csv(bpe_path/'test.ensemble64.char.csv')"
   ]
  },
  {
   "cell_type": "code",
   "execution_count": 21,
   "metadata": {},
   "outputs": [
    {
     "data": {
      "text/html": [],
      "text/plain": [
       "<IPython.core.display.HTML object>"
      ]
     },
     "metadata": {},
     "output_type": "display_data"
    },
    {
     "data": {
      "text/html": [],
      "text/plain": [
       "<IPython.core.display.HTML object>"
      ]
     },
     "metadata": {},
     "output_type": "display_data"
    },
    {
     "data": {
      "text/html": [],
      "text/plain": [
       "<IPython.core.display.HTML object>"
      ]
     },
     "metadata": {},
     "output_type": "display_data"
    }
   ],
   "source": [
    "data_clas_test = TextDataBunch.from_df(bpe_path, train_fullpage_df, valid_fullpage_df, test_ensemble_df,\n",
    "                                       text_cols = 'text', label_cols = 'label', tokenizer=cust_tok, \n",
    "                                       vocab=transformer_vocab, include_bos=False, include_eos=False, \n",
    "                                       pad_first=False, pad_idx=pad_idx, bs=bs, num_workers=1)"
   ]
  },
  {
   "cell_type": "code",
   "execution_count": 22,
   "metadata": {},
   "outputs": [
    {
     "data": {
      "text/html": [],
      "text/plain": [
       "<IPython.core.display.HTML object>"
      ]
     },
     "metadata": {},
     "output_type": "display_data"
    },
    {
     "data": {
      "text/plain": [
       "((0.6188650131225586, 0.6196318864822388),\n",
       " (0.5801504413711589, 0.5554063833775533))"
      ]
     },
     "execution_count": 22,
     "metadata": {},
     "output_type": "execute_result"
    }
   ],
   "source": [
    "(acc, acc_with_prior), (f1, f1_with_prior) = eval_models.calcAccuracy_fullpage(learner, bpe_path, train_fullpage_df, valid_fullpage_df, test_ensemble_df, databunch=data_clas_test, ensembled=True)\n",
    "(acc, acc_with_prior), (f1, f1_with_prior)"
   ]
  },
  {
   "cell_type": "markdown",
   "metadata": {},
   "source": [
    "### Error Analysis"
   ]
  },
  {
   "cell_type": "code",
   "execution_count": 23,
   "metadata": {},
   "outputs": [
    {
     "data": {
      "text/html": [],
      "text/plain": [
       "<IPython.core.display.HTML object>"
      ]
     },
     "metadata": {},
     "output_type": "display_data"
    }
   ],
   "source": [
    "interp = ClassificationInterpretation.from_learner(learner)"
   ]
  },
  {
   "cell_type": "code",
   "execution_count": 24,
   "metadata": {},
   "outputs": [
    {
     "data": {
      "image/png": "[encoded data removed]",
      "text/plain": [
       "<Figure size 864x864 with 1 Axes>"
      ]
     },
     "metadata": {
      "needs_background": "light"
     },
     "output_type": "display_data"
    }
   ],
   "source": [
    "interp.plot_confusion_matrix(figsize=(12,12))"
   ]
  },
  {
   "cell_type": "code",
   "execution_count": null,
   "metadata": {},
   "outputs": [],
   "source": []
  }
 ],
 "metadata": {
  "kernelspec": {
   "display_name": "Python 3",
   "language": "python",
   "name": "python3"
  },
  "language_info": {
   "codemirror_mode": {
    "name": "ipython",
    "version": 3
   },
   "file_extension": ".py",
   "mimetype": "text/x-python",
   "name": "python",
   "nbconvert_exporter": "python",
   "pygments_lexer": "ipython3",
   "version": "3.7.3"
  },
  "toc": {
   "base_numbering": 1,
   "nav_menu": {},
   "number_sections": false,
   "sideBar": true,
   "skip_h1_title": true,
   "title_cell": "Table of Contents",
   "title_sidebar": "Contents",
   "toc_cell": false,
   "toc_position": {},
   "toc_section_display": true,
   "toc_window_display": false
  }
 },
 "nbformat": 4,
 "nbformat_minor": 2
}
