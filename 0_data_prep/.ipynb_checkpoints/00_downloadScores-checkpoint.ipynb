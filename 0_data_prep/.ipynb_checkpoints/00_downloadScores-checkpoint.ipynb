{
 "cells": [
  {
   "cell_type": "markdown",
   "metadata": {},
   "source": [
    "# Download IMSLP Scores"
   ]
  },
  {
   "cell_type": "markdown",
   "metadata": {},
   "source": [
    "This notebook downloads a list of piano sheet music scores from 9 different composers."
   ]
  },
  {
   "cell_type": "code",
   "execution_count": null,
   "metadata": {},
   "outputs": [],
   "source": [
    "import os\n",
    "import os.path\n",
    "import time\n",
    "import requests\n",
    "from bs4 import BeautifulSoup as bsoup"
   ]
  },
  {
   "cell_type": "code",
   "execution_count": null,
   "metadata": {},
   "outputs": [],
   "source": [
    "def download_file(local_filename, download_link, username, password):\n",
    "    '''\n",
    "    Logs into IMSLP and downloads a single file.\n",
    "    '''\n",
    "    time.sleep(1)\n",
    "    login_url = 'https://imslp.org/index.php?title=Special:UserLogin&returnto=Main%20Page'\n",
    "    with requests.Session() as s:\n",
    "        r = s.get(login_url)\n",
    "        cookies = dict(r.cookies)\n",
    "        response = r.content\n",
    "        soup = bsoup(response,\"html.parser\")\n",
    "        token = soup.find_all(\"input\",{\"name\":\"wpLoginToken\"})[0]['value']\n",
    "        payload = {\n",
    "            'wpName': username,\n",
    "            'wpPassword': password,\n",
    "            'wpLoginAttempt':'Log in',\n",
    "            'wpLoginToken': token\n",
    "        }\n",
    "        login_url = 'https://imslp.org/index.php?title=Special:UserLogin&action=submitlogin&type=login&returnto=Main%20Page'\n",
    "        headers = {'User-Agent': 'Mozilla/5.0 (Macintosh; Intel Mac OS X 10_10_1) AppleWebKit/537.36 (KHTML, like Gecko) Chrome/39.0.2171.95 Safari/537.36'}\n",
    "        p = s.post(login_url, data = payload, cookies=cookies)\n",
    "        #print(p.text)\n",
    "        req = s.get(download_link)\n",
    "        with open(local_filename, 'wb') as f:\n",
    "            for chunk in req.iter_content(chunk_size=1024):\n",
    "                if chunk:\n",
    "                    f.write(chunk)\n",
    "            return local_filename"
   ]
  },
  {
   "cell_type": "code",
   "execution_count": null,
   "metadata": {},
   "outputs": [],
   "source": [
    "def download_all_files(download_list, username, password):\n",
    "    '''\n",
    "    Downloads all of the scores in a specified file.\n",
    "    '''\n",
    "    with open(download_list, 'r') as f:\n",
    "        for line in f:\n",
    "            parts = line.strip().split()\n",
    "            assert len(parts) == 2\n",
    "            local_filename = parts[0]\n",
    "            download_link = parts[1]\n",
    "            dst_dir = os.path.dirname(local_filename)\n",
    "            if not os.path.exists(dst_dir):\n",
    "                os.makedirs(dst_dir)\n",
    "            print('Downloading {}'.format(os.path.basename(local_filename)))\n",
    "            download_file(local_filename, download_link, username, password)"
   ]
  },
  {
   "cell_type": "code",
   "execution_count": null,
   "metadata": {},
   "outputs": [],
   "source": [
    "download_list = '../cfg_files/download_links.txt'\n",
    "imslp_username = 'username' # replace with valid username & password\n",
    "imslp_password = 'password'\n",
    "download_all_files(download_list, imslp_username, imslp_password)"
   ]
  },
  {
   "cell_type": "code",
   "execution_count": null,
   "metadata": {},
   "outputs": [],
   "source": []
  }
 ],
 "metadata": {
  "kernelspec": {
   "display_name": "Python 3",
   "language": "python",
   "name": "python3"
  },
  "language_info": {
   "codemirror_mode": {
    "name": "ipython",
    "version": 3
   },
   "file_extension": ".py",
   "mimetype": "text/x-python",
   "name": "python",
   "nbconvert_exporter": "python",
   "pygments_lexer": "ipython3",
   "version": "3.7.3"
  }
 },
 "nbformat": 4,
 "nbformat_minor": 2
}
