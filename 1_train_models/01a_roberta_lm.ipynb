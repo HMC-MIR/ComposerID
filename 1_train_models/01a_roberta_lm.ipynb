{
 "cells": [
  {
   "cell_type": "markdown",
   "metadata": {},
   "source": [
    "# Training a RoBERTa Language Model"
   ]
  },
  {
   "cell_type": "markdown",
   "metadata": {},
   "source": [
    "In this notebook we train a RoBERTa language model on the IMSLP and/or target data.  This code can be used to train two different language models: (a) one that is trained on target data, and (b) one that is trained on IMSLP data and finetuned on target data.  For (a), you can stop at the end of the section entitled \"Train Language Model\".\n",
    "\n",
    "Note that this notebook needs to be run in a different virtual environment from previous notebooks because it requires a different version of the transformers library than is used by the fastai library.  This environment is specified in requirements_lm.txt."
   ]
  },
  {
   "cell_type": "code",
   "execution_count": 1,
   "metadata": {},
   "outputs": [],
   "source": [
    "%matplotlib inline"
   ]
  },
  {
   "cell_type": "code",
   "execution_count": 17,
   "metadata": {},
   "outputs": [],
   "source": [
    "from pathlib import Path\n",
    "import json\n",
    "from train_utils import plotLosses\n",
    "import transformers"
   ]
  },
  {
   "cell_type": "code",
   "execution_count": 3,
   "metadata": {},
   "outputs": [],
   "source": [
    "bpe_path = Path('/home/dyang/.fastai/data/bscore_lm/bpe_data')\n",
    "bpe_path.mkdir(exist_ok=True, parents=True)"
   ]
  },
  {
   "cell_type": "markdown",
   "metadata": {},
   "source": [
    "### Train Language Model"
   ]
  },
  {
   "cell_type": "code",
   "execution_count": 10,
   "metadata": {},
   "outputs": [],
   "source": [
    "data_type = 'imslp' # 'target' or 'imslp'"
   ]
  },
  {
   "cell_type": "code",
   "execution_count": 26,
   "metadata": {},
   "outputs": [],
   "source": [
    "lm_train_file = bpe_path/f'bpe_lm_{data_type}_train-augmented.txt'\n",
    "lm_valid_file = bpe_path/f'bpe_lm_{data_type}_valid-augmented.txt'\n",
    "tok_path = bpe_path/f'tokenizer_{data_type}'\n",
    "output_model_path = bpe_path/f'models/roberta_train-{data_type}_lm-augmented'"
   ]
  },
  {
   "cell_type": "code",
   "execution_count": 27,
   "metadata": {},
   "outputs": [],
   "source": [
    "# changes from defaults:\n",
    "# vocab_size: 30522 -> 30000\n",
    "# num_hidden_layers: 12 -> 6\n",
    "# max_position_embeddings: 512 -> 514 (or 258)\n",
    "# type_vocab_size: 2 -> 1\n",
    "# layer_norm_eps: 1e-12 -> 1e-5\n",
    "config = {\n",
    "    \"architectures\": [\n",
    "        \"RobertaForMaskedLM\"\n",
    "    ],\n",
    "    \"attention_probs_dropout_prob\": 0.1,\n",
    "    \"hidden_act\": \"gelu\",\n",
    "    \"hidden_dropout_prob\": 0.1,\n",
    "    \"hidden_size\": 768,\n",
    "    \"initializer_range\": 0.02,\n",
    "    \"intermediate_size\": 3072,\n",
    "    \"layer_norm_eps\": 1e-05,\n",
    "    \"max_position_embeddings\": 514,\n",
    "    \"model_type\": \"roberta\",\n",
    "    \"num_attention_heads\": 12,\n",
    "    \"num_hidden_layers\": 6,\n",
    "    \"type_vocab_size\": 1,\n",
    "    \"vocab_size\": 30000\n",
    "    }"
   ]
  },
  {
   "cell_type": "code",
   "execution_count": 28,
   "metadata": {},
   "outputs": [],
   "source": [
    "with open(f\"{tok_path}/config.json\", 'w') as fp:\n",
    "    json.dump(config, fp)"
   ]
  },
  {
   "cell_type": "code",
   "execution_count": 29,
   "metadata": {},
   "outputs": [],
   "source": [
    "cmd = f\"\"\"\n",
    "python ./run_language_modeling.py\n",
    "--train_data_file {lm_train_file}\n",
    "--output_dir {output_model_path}\n",
    "--model_type roberta\n",
    "--eval_data_file {lm_valid_file}\n",
    "--line_by_line\n",
    "--mlm\n",
    "--config_name {tok_path}\n",
    "--tokenizer_name {tok_path}\n",
    "--do_train\n",
    "--do_eval\n",
    "--evaluate_during_training\n",
    "--per_gpu_train_batch_size 20\n",
    "--per_gpu_eval_batch_size 20\n",
    "--learning_rate 1e-4\n",
    "--num_train_epochs 60\n",
    "--logging_steps 163\n",
    "--save_steps 815\n",
    "--seed 42\n",
    "--overwrite_output_dir\n",
    "\"\"\".replace(\"\\n\", \" \")\n",
    "#--should_continue'\n",
    "#--save_total_limit 2\n",
    "\n",
    "# target ctx258: batch 26, epoch = 126 steps, 60 epochs\n",
    "# imslp ctx258: batch 26, epoch = 4419 steps, 8 epochs\n",
    "# target ctx514: batch 20, epoch = 163 steps, 60 epochs\n",
    "# imslp ctx514: batch 20, epoch = 5744 steps, 8 epochs"
   ]
  },
  {
   "cell_type": "code",
   "execution_count": 30,
   "metadata": {},
   "outputs": [],
   "source": [
    "!echo {cmd} > /home/dyang/PianoStyleEmbedding/train_roberta-augmented.sh"
   ]
  },
  {
   "cell_type": "code",
   "execution_count": 19,
   "metadata": {
    "scrolled": true
   },
   "outputs": [
    {
     "name": "stdout",
     "output_type": "stream",
     "text": [
      "/home/dyang/anaconda3/envs/test_env/lib/python3.6/site-packages/tensorflow/python/framework/dtypes.py:523: FutureWarning: Passing (type, 1) or '1type' as a synonym of type is deprecated; in a future version of numpy, it will be understood as (type, (1,)) / '(1,)type'.\n",
      "  _np_qint8 = np.dtype([(\"qint8\", np.int8, 1)])\n",
      "/home/dyang/anaconda3/envs/test_env/lib/python3.6/site-packages/tensorflow/python/framework/dtypes.py:524: FutureWarning: Passing (type, 1) or '1type' as a synonym of type is deprecated; in a future version of numpy, it will be understood as (type, (1,)) / '(1,)type'.\n",
      "  _np_quint8 = np.dtype([(\"quint8\", np.uint8, 1)])\n",
      "/home/dyang/anaconda3/envs/test_env/lib/python3.6/site-packages/tensorflow/python/framework/dtypes.py:525: FutureWarning: Passing (type, 1) or '1type' as a synonym of type is deprecated; in a future version of numpy, it will be understood as (type, (1,)) / '(1,)type'.\n",
      "  _np_qint16 = np.dtype([(\"qint16\", np.int16, 1)])\n",
      "/home/dyang/anaconda3/envs/test_env/lib/python3.6/site-packages/tensorflow/python/framework/dtypes.py:526: FutureWarning: Passing (type, 1) or '1type' as a synonym of type is deprecated; in a future version of numpy, it will be understood as (type, (1,)) / '(1,)type'.\n",
      "  _np_quint16 = np.dtype([(\"quint16\", np.uint16, 1)])\n",
      "/home/dyang/anaconda3/envs/test_env/lib/python3.6/site-packages/tensorflow/python/framework/dtypes.py:527: FutureWarning: Passing (type, 1) or '1type' as a synonym of type is deprecated; in a future version of numpy, it will be understood as (type, (1,)) / '(1,)type'.\n",
      "  _np_qint32 = np.dtype([(\"qint32\", np.int32, 1)])\n",
      "/home/dyang/anaconda3/envs/test_env/lib/python3.6/site-packages/tensorflow/python/framework/dtypes.py:532: FutureWarning: Passing (type, 1) or '1type' as a synonym of type is deprecated; in a future version of numpy, it will be understood as (type, (1,)) / '(1,)type'.\n",
      "  np_resource = np.dtype([(\"resource\", np.ubyte, 1)])\n",
      "----------------------------------------\n",
      "-1\n",
      "cuda\n",
      "2\n",
      "----------------------------------------------------\n",
      "07/16/2020 14:24:41 - WARNING - __main__ -   Process rank: -1, device: cuda, n_gpu: 2, distributed training: False, 16-bits training: False\n",
      "07/16/2020 14:24:41 - INFO - transformers.configuration_utils -   loading configuration file /home/dyang/.fastai/data/bscore_lm/bpe_data/tokenizer_imslp/config.json\n",
      "07/16/2020 14:24:41 - INFO - transformers.configuration_utils -   Model config RobertaConfig {\n",
      "  \"architectures\": [\n",
      "    \"RobertaForMaskedLM\"\n",
      "  ],\n",
      "  \"attention_probs_dropout_prob\": 0.1,\n",
      "  \"bos_token_id\": 0,\n",
      "  \"do_sample\": false,\n",
      "  \"eos_token_ids\": 0,\n",
      "  \"finetuning_task\": null,\n",
      "  \"hidden_act\": \"gelu\",\n",
      "  \"hidden_dropout_prob\": 0.1,\n",
      "  \"hidden_size\": 768,\n",
      "  \"id2label\": {\n",
      "    \"0\": \"LABEL_0\",\n",
      "    \"1\": \"LABEL_1\"\n",
      "  },\n",
      "  \"initializer_range\": 0.02,\n",
      "  \"intermediate_size\": 3072,\n",
      "  \"is_decoder\": false,\n",
      "  \"label2id\": {\n",
      "    \"LABEL_0\": 0,\n",
      "    \"LABEL_1\": 1\n",
      "  },\n",
      "  \"layer_norm_eps\": 1e-05,\n",
      "  \"length_penalty\": 1.0,\n",
      "  \"max_length\": 20,\n",
      "  \"max_position_embeddings\": 514,\n",
      "  \"model_type\": \"roberta\",\n",
      "  \"num_attention_heads\": 12,\n",
      "  \"num_beams\": 1,\n",
      "  \"num_hidden_layers\": 6,\n",
      "  \"num_labels\": 2,\n",
      "  \"num_return_sequences\": 1,\n",
      "  \"output_attentions\": false,\n",
      "  \"output_hidden_states\": false,\n",
      "  \"output_past\": true,\n",
      "  \"pad_token_id\": 0,\n",
      "  \"pruned_heads\": {},\n",
      "  \"repetition_penalty\": 1.0,\n",
      "  \"temperature\": 1.0,\n",
      "  \"top_k\": 50,\n",
      "  \"top_p\": 1.0,\n",
      "  \"torchscript\": false,\n",
      "  \"type_vocab_size\": 1,\n",
      "  \"use_bfloat16\": false,\n",
      "  \"vocab_size\": 30000\n",
      "}\n",
      "\n",
      "07/16/2020 14:24:41 - INFO - transformers.tokenization_utils -   Model name '/home/dyang/.fastai/data/bscore_lm/bpe_data/tokenizer_imslp' not found in model shortcut name list (roberta-base, roberta-large, roberta-large-mnli, distilroberta-base, roberta-base-openai-detector, roberta-large-openai-detector). Assuming '/home/dyang/.fastai/data/bscore_lm/bpe_data/tokenizer_imslp' is a path, a model identifier, or url to a directory containing tokenizer files.\n",
      "07/16/2020 14:24:41 - INFO - transformers.tokenization_utils -   Didn't find file /home/dyang/.fastai/data/bscore_lm/bpe_data/tokenizer_imslp/added_tokens.json. We won't load it.\n",
      "07/16/2020 14:24:41 - INFO - transformers.tokenization_utils -   Didn't find file /home/dyang/.fastai/data/bscore_lm/bpe_data/tokenizer_imslp/special_tokens_map.json. We won't load it.\n",
      "07/16/2020 14:24:41 - INFO - transformers.tokenization_utils -   Didn't find file /home/dyang/.fastai/data/bscore_lm/bpe_data/tokenizer_imslp/tokenizer_config.json. We won't load it.\n",
      "07/16/2020 14:24:41 - INFO - transformers.tokenization_utils -   loading file /home/dyang/.fastai/data/bscore_lm/bpe_data/tokenizer_imslp/vocab.json\n",
      "07/16/2020 14:24:41 - INFO - transformers.tokenization_utils -   loading file /home/dyang/.fastai/data/bscore_lm/bpe_data/tokenizer_imslp/merges.txt\n",
      "07/16/2020 14:24:41 - INFO - transformers.tokenization_utils -   loading file None\n",
      "07/16/2020 14:24:41 - INFO - transformers.tokenization_utils -   loading file None\n",
      "07/16/2020 14:24:41 - INFO - transformers.tokenization_utils -   loading file None\n",
      "07/16/2020 14:24:41 - INFO - __main__ -   Training new model from scratch\n",
      "Segmentation fault (core dumped)\n"
     ]
    }
   ],
   "source": [
    "#you may need to run this in a bash shell with correct virtual environment\n",
    "!./train_roberta.sh"
   ]
  },
  {
   "cell_type": "code",
   "execution_count": 19,
   "metadata": {},
   "outputs": [
    {
     "ename": "FileNotFoundError",
     "evalue": "[Errno 2] No such file or directory: '/home/dyang/.fastai/data/bscore_lm/bpe_data/models/roberta_train-imslp_lm-augmented/eval_results.txt'",
     "output_type": "error",
     "traceback": [
      "\u001b[0;31m---------------------------------------------------------------------------\u001b[0m",
      "\u001b[0;31mFileNotFoundError\u001b[0m                         Traceback (most recent call last)",
      "\u001b[0;32m<ipython-input-19-d0f849bd7b4f>\u001b[0m in \u001b[0;36m<module>\u001b[0;34m\u001b[0m\n\u001b[0;32m----> 1\u001b[0;31m \u001b[0mplotLosses\u001b[0m\u001b[0;34m(\u001b[0m\u001b[0moutput_model_path\u001b[0m\u001b[0;34m/\u001b[0m\u001b[0;34m'eval_results.txt'\u001b[0m\u001b[0;34m)\u001b[0m\u001b[0;34m\u001b[0m\u001b[0;34m\u001b[0m\u001b[0m\n\u001b[0m",
      "\u001b[0;32m/data/home/dyang/PianoStyleEmbedding/train_utils.py\u001b[0m in \u001b[0;36mplotLosses\u001b[0;34m(logfile)\u001b[0m\n\u001b[1;32m    211\u001b[0m     \u001b[0mval_loss\u001b[0m \u001b[0;34m=\u001b[0m \u001b[0;34m[\u001b[0m\u001b[0;34m]\u001b[0m\u001b[0;34m\u001b[0m\u001b[0;34m\u001b[0m\u001b[0m\n\u001b[1;32m    212\u001b[0m     \u001b[0mstep\u001b[0m \u001b[0;34m=\u001b[0m \u001b[0;34m[\u001b[0m\u001b[0;34m]\u001b[0m\u001b[0;34m\u001b[0m\u001b[0;34m\u001b[0m\u001b[0m\n\u001b[0;32m--> 213\u001b[0;31m     \u001b[0;32mwith\u001b[0m \u001b[0mopen\u001b[0m\u001b[0;34m(\u001b[0m\u001b[0mlogfile\u001b[0m\u001b[0;34m,\u001b[0m \u001b[0;34m'r'\u001b[0m\u001b[0;34m)\u001b[0m \u001b[0;32mas\u001b[0m \u001b[0mf\u001b[0m\u001b[0;34m:\u001b[0m\u001b[0;34m\u001b[0m\u001b[0;34m\u001b[0m\u001b[0m\n\u001b[0m\u001b[1;32m    214\u001b[0m         \u001b[0;32mfor\u001b[0m \u001b[0mline\u001b[0m \u001b[0;32min\u001b[0m \u001b[0mf\u001b[0m\u001b[0;34m:\u001b[0m\u001b[0;34m\u001b[0m\u001b[0;34m\u001b[0m\u001b[0m\n\u001b[1;32m    215\u001b[0m             \u001b[0mm\u001b[0m \u001b[0;34m=\u001b[0m \u001b[0mre\u001b[0m\u001b[0;34m.\u001b[0m\u001b[0msearch\u001b[0m\u001b[0;34m(\u001b[0m\u001b[0;34m'Step (\\d+): train loss = (\\S+), valid loss = (\\S+),'\u001b[0m\u001b[0;34m,\u001b[0m \u001b[0mline\u001b[0m\u001b[0;34m.\u001b[0m\u001b[0mstrip\u001b[0m\u001b[0;34m(\u001b[0m\u001b[0;34m)\u001b[0m\u001b[0;34m)\u001b[0m\u001b[0;34m\u001b[0m\u001b[0;34m\u001b[0m\u001b[0m\n",
      "\u001b[0;31mFileNotFoundError\u001b[0m: [Errno 2] No such file or directory: '/home/dyang/.fastai/data/bscore_lm/bpe_data/models/roberta_train-imslp_lm-augmented/eval_results.txt'"
     ]
    }
   ],
   "source": [
    "plotLosses(output_model_path/'eval_results.txt')"
   ]
  },
  {
   "cell_type": "markdown",
   "metadata": {},
   "source": [
    "### Finetune Language Model"
   ]
  },
  {
   "cell_type": "markdown",
   "metadata": {},
   "source": [
    "This section only applies for the LM trained on IMSLP data."
   ]
  },
  {
   "cell_type": "code",
   "execution_count": 12,
   "metadata": {},
   "outputs": [],
   "source": [
    "finetuned_models_path = bpe_path/'models/roberta_train-imslp_finetune-target_lm'\n",
    "lm_train_file = bpe_path/'bpe_lm_target_train.txt'\n",
    "lm_valid_file = bpe_path/'bpe_lm_target_valid.txt'"
   ]
  },
  {
   "cell_type": "code",
   "execution_count": 13,
   "metadata": {},
   "outputs": [],
   "source": [
    "cmd = f\"\"\"\n",
    "python ./run_language_modeling.py\n",
    "--train_data_file {lm_train_file}\n",
    "--output_dir {finetuned_models_path}\n",
    "--model_type roberta\n",
    "--eval_data_file {lm_valid_file}\n",
    "--line_by_line\n",
    "--model_name_or_path {output_model_path}\n",
    "--tokenizer_name {output_model_path}\n",
    "--mlm\n",
    "--do_train\n",
    "--do_eval\n",
    "--evaluate_during_training\n",
    "--per_gpu_train_batch_size 20\n",
    "--per_gpu_eval_batch_size 20\n",
    "--learning_rate 5e-5\n",
    "--num_train_epochs 10\n",
    "--logging_steps 163\n",
    "--save_steps 326\n",
    "--seed 42\n",
    "--overwrite_output_dir\n",
    "\"\"\".replace(\"\\n\", \" \")\n",
    "#--should_continue\n",
    "#--save_total_limit 2"
   ]
  },
  {
   "cell_type": "code",
   "execution_count": 14,
   "metadata": {},
   "outputs": [],
   "source": [
    "!echo {cmd} > train_lm.sh"
   ]
  },
  {
   "cell_type": "code",
   "execution_count": 20,
   "metadata": {},
   "outputs": [
    {
     "data": {
      "text/plain": [
       "[43, 98347, 123, 2, 10]"
      ]
     },
     "execution_count": 20,
     "metadata": {},
     "output_type": "execute_result"
    }
   ],
   "source": [
    "x = [43,98347,123]\n",
    "x+=[2,10]\n",
    "x"
   ]
  },
  {
   "cell_type": "code",
   "execution_count": null,
   "metadata": {},
   "outputs": [],
   "source": [
    "# you may need to run this in a bash shell with different virtual environment\n",
    "#!./train_roberta.sh"
   ]
  },
  {
   "cell_type": "code",
   "execution_count": 15,
   "metadata": {},
   "outputs": [
    {
     "data": {
      "image/png": "[encoded data removed]",
      "text/plain": [
       "<Figure size 432x288 with 1 Axes>"
      ]
     },
     "metadata": {
      "needs_background": "light"
     },
     "output_type": "display_data"
    }
   ],
   "source": [
    "plotLosses(finetuned_models_path/'eval_results.txt')"
   ]
  }
 ],
 "metadata": {
  "kernelspec": {
   "display_name": "Python 3",
   "language": "python",
   "name": "python3"
  },
  "language_info": {
   "codemirror_mode": {
    "name": "ipython",
    "version": 3
   },
   "file_extension": ".py",
   "mimetype": "text/x-python",
   "name": "python",
   "nbconvert_exporter": "python",
   "pygments_lexer": "ipython3",
   "version": "3.6.7"
  },
  "toc": {
   "base_numbering": 1,
   "nav_menu": {},
   "number_sections": false,
   "sideBar": true,
   "skip_h1_title": true,
   "title_cell": "Table of Contents",
   "title_sidebar": "Contents",
   "toc_cell": false,
   "toc_position": {},
   "toc_section_display": true,
   "toc_window_display": false
  }
 },
 "nbformat": 4,
 "nbformat_minor": 2
}
