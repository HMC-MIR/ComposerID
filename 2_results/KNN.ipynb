{
 "cells": [
  {
   "cell_type": "markdown",
   "metadata": {},
   "source": [
    "# KNN w/ AWDLSTM"
   ]
  },
  {
   "cell_type": "markdown",
   "metadata": {},
   "source": [
    "In this notebook we train an AWD-LSTM model for the proxy task with language model pretraining on IMSLP and language model fine-tuning on the target data.  This notebook has been adapted from the fast.ai [ULMFit tutorial](https://github.com/fastai/course-nlp/blob/master/nn-vietnamese.ipynb)."
   ]
  },
  {
   "cell_type": "code",
   "execution_count": null,
   "metadata": {
    "scrolled": true
   },
   "outputs": [],
   "source": [
    "%reload_ext autoreload\n",
    "%autoreload 2\n",
    "%matplotlib inline\n",
    "\n",
    "from fastai import *\n",
    "from fastai.text import *\n",
    "import glob\n",
    "import eval_models"
   ]
  },
  {
   "cell_type": "code",
   "execution_count": null,
   "metadata": {},
   "outputs": [],
   "source": [
    "bs=48"
   ]
  },
  {
   "cell_type": "code",
   "execution_count": null,
   "metadata": {},
   "outputs": [],
   "source": [
    "torch.cuda.set_device(1)\n",
    "torch.cuda.current_device()"
   ]
  },
  {
   "cell_type": "code",
   "execution_count": null,
   "metadata": {},
   "outputs": [],
   "source": [
    "data_path = Config.data_path()"
   ]
  },
  {
   "cell_type": "code",
   "execution_count": null,
   "metadata": {},
   "outputs": [],
   "source": [
    "name = 'bscore_lm'\n",
    "path = data_path/name\n",
    "path.mkdir(exist_ok=True, parents=True)"
   ]
  },
  {
   "cell_type": "markdown",
   "metadata": {
    "heading_collapsed": true
   },
   "source": [
    "### IMSLP Language Model"
   ]
  },
  {
   "cell_type": "code",
   "execution_count": null,
   "metadata": {
    "hidden": true
   },
   "outputs": [],
   "source": [
    "data = load_data(path, 'lm_imslp_databunch-augmented', bs=bs)"
   ]
  },
  {
   "cell_type": "code",
   "execution_count": null,
   "metadata": {
    "hidden": true,
    "scrolled": false
   },
   "outputs": [],
   "source": [
    "learn = language_model_learner(data, AWD_LSTM, drop_mult=0.5, pretrained=False)"
   ]
  },
  {
   "cell_type": "code",
   "execution_count": null,
   "metadata": {},
   "outputs": [],
   "source": [
    "train_df = pd.read_csv(path/'train64.csv')\n",
    "valid_df = pd.read_csv(path/'valid64.csv')\n",
    "test_df = pd.read_csv(path/'test64.csv')"
   ]
  },
  {
   "cell_type": "code",
   "execution_count": null,
   "metadata": {},
   "outputs": [],
   "source": [
    "basicTokenizer = Tokenizer(pre_rules=[], post_rules=[])\n",
    "data_clas = TextDataBunch.from_df(path, train_df, valid_df, tokenizer=basicTokenizer,\n",
    "                                  vocab = data_target_lm.vocab, bs=bs, num_workers=1)"
   ]
  },
  {
   "cell_type": "code",
   "execution_count": null,
   "metadata": {},
   "outputs": [],
   "source": [
    "ftmodel_basename = 'awdlstm_train-imslp_finetune-target_lm-augmented'\n",
    "learn_c = text_classifier_learner(data_clas, AWD_LSTM, pretrained=False, drop_mult=0.5, \n",
    "                                  metrics=[accuracy, FBeta(average='macro', beta=1)])\n",
    "learn_c.load_encoder(f'{ftmodel_basename}enc')\n",
    "learn_c.freeze()"
   ]
  },
  {
   "cell_type": "code",
   "execution_count": null,
   "metadata": {},
   "outputs": [],
   "source": [
    "from fastai.callbacks.hooks import *\n",
    "from sklearn.manifold import TSNE\n",
    "from plotnine import *\n",
    "from matplotlib import pyplot as plt\n",
    "learn_c.load('awdlstm_train-imslp_finetune-target_clas-augment')"
   ]
  },
  {
   "cell_type": "code",
   "execution_count": null,
   "metadata": {},
   "outputs": [],
   "source": [
    "net = learn_c.model\n",
    "encoder = net[0]\n",
    "enc = list(encoder.children())[0]\n",
    "w = enc.encoder.weight\n",
    "vocab = learn_c.data.vocab\n",
    "tensor = w.cpu().detach().numpy()"
   ]
  },
  {
   "cell_type": "code",
   "execution_count": null,
   "metadata": {},
   "outputs": [],
   "source": [
    "def encodeColumn(arr):\n",
    "    bitstring = \"\"\n",
    "    for i in range(len(arr)):\n",
    "        if arr[i] == 1:\n",
    "            bitstring+=\"1\"\n",
    "        else:\n",
    "            bitstring+=\"0\"\n",
    "    hashint = int(bitstring,2)\n",
    "    return hashint"
   ]
  },
  {
   "cell_type": "code",
   "execution_count": null,
   "metadata": {},
   "outputs": [],
   "source": [
    "points = []\n",
    "labels = []\n",
    "for idx in range(62):\n",
    "    bscore_column = np.zeros(62)\n",
    "    bscore_column[idx] = 1\n",
    "    bscore_int = encodeColumn(bscore_column)\n",
    "    id_num = vocab.numericalize([str(bscore_int)])[0]\n",
    "    points.append(tensor[id_num])\n",
    "    labels.append(idx)"
   ]
  },
  {
   "cell_type": "code",
   "execution_count": null,
   "metadata": {},
   "outputs": [],
   "source": [
    "def plot_tSNE(x, y):\n",
    "    tsne = TSNE(n_components=2, random_state=0)\n",
    "    tsne_obj = tsne.fit_transform(x)\n",
    "    tsne_df = pd.DataFrame({'X': tsne_obj[:, 0],\n",
    "                           'Y': tsne_obj[:, 1],\n",
    "                           'composer': y})\n",
    "    plt.figure(figsize=(16, 10))\n",
    "    legend_position = \"right\"\n",
    "    return (ggplot(tsne_df, aes(x=\"X\", y=\"Y\")) + \n",
    "        geom_point(alpha=0.8) +\n",
    "        geom_text(aes(label=y),position = position_nudge(y = 5),size=5) +\n",
    "        theme_bw() +\n",
    "        guides(colour = guide_legend(override_aes = {'alpha': 1})) +\n",
    "        theme(dpi=300, legend_position=\"none\",\n",
    "            axis_text_x = element_blank(),\n",
    "            axis_text_y = element_blank(),\n",
    "            axis_title_x = element_blank(),\n",
    "            axis_title_y = element_blank(),\n",
    "            axis_ticks = element_blank()))"
   ]
  },
  {
   "cell_type": "code",
   "execution_count": null,
   "metadata": {},
   "outputs": [],
   "source": [
    "def map_labels(labels):\n",
    "    out = []\n",
    "    for i in labels:\n",
    "        note = int2note(i)\n",
    "        out.append(note)\n",
    "    return out"
   ]
  },
  {
   "cell_type": "code",
   "execution_count": null,
   "metadata": {},
   "outputs": [],
   "source": [
    "def int2note(i):\n",
    "    notes = ['A','B','C','D','E','F','G']\n",
    "    offset  =0\n",
    "    if i >= 28:\n",
    "        k = i-28+4+21\n",
    "        if k%7 >= 2:\n",
    "            offset=1\n",
    "        if i<=37:\n",
    "            note = notes[k%7]+f'{int(k/7)-1+offset}(R)'\n",
    "        else:  \n",
    "            note = notes[k%7]+f'{int(k/7)-1+offset}'\n",
    "    else:\n",
    "        if i%7 >= 2:\n",
    "            offset=1\n",
    "        if i>=18:\n",
    "            note = notes[i%7]+f'{int(i/7)+offset}(L)'\n",
    "        else:\n",
    "            note = notes[i%7]+f'{int(i/7)+offset}'\n",
    "    return note"
   ]
  },
  {
   "cell_type": "code",
   "execution_count": null,
   "metadata": {},
   "outputs": [],
   "source": [
    "labels1 = map_labels(labels)\n",
    "plot_tSNE(points,labels1)"
   ]
  },
  {
   "cell_type": "code",
   "execution_count": null,
   "metadata": {},
   "outputs": [],
   "source": [
    "from sklearn.neighbors import KNeighborsClassifier\n",
    "classifier = KNeighborsClassifier(n_neighbors=5)\n",
    "classifier.fit(points,labels)"
   ]
  },
  {
   "cell_type": "code",
   "execution_count": null,
   "metadata": {},
   "outputs": [],
   "source": [
    "#E4\n",
    "bscore_column = np.zeros(62)\n",
    "bscore_column[7] = 1\n",
    "bscore_int = encodeColumn(bscore_column)\n",
    "id_num = vocab.numericalize([str(bscore_int)])[0]\n",
    "vec1 = tensor[id_num].reshape(1,-1)\n",
    "y_pred1 = classifier.kneighbors(vec1, n_neighbors=5)\n",
    "y_pred1"
   ]
  },
  {
   "cell_type": "code",
   "execution_count": null,
   "metadata": {},
   "outputs": [],
   "source": [
    "def getNeighbors(vec, n=5):\n",
    "    y_pred = classifier.kneighbors(vec, n_neighbors=n)\n",
    "    return y_pred"
   ]
  },
  {
   "cell_type": "code",
   "execution_count": null,
   "metadata": {
    "code_folding": [
     8
    ]
   },
   "outputs": [],
   "source": [
    "def find_analogies():\n",
    "    # Analogies are of the form E4 - E5 + A4 = X\n",
    "    analogies = []\n",
    "    for idx in range(62-7):\n",
    "        p1 = idx\n",
    "        p2 = idx+7\n",
    "        for i in range(1,7):\n",
    "            p3 = idx + 7+i\n",
    "            if p3 >= 62:\n",
    "                continue\n",
    "                \n",
    "            c1 = getCol([p1])\n",
    "            c2 = getCol([p2])\n",
    "            c3 = getCol([p3])\n",
    "            \n",
    "            v1 = getvec(c1)\n",
    "            v2 = getvec(c2)\n",
    "            v3 = getvec(c3)\n",
    "            \n",
    "            dist, neighbors = getNeighbors(v1-v2+v3)\n",
    "            if p3-7 in neighbors:\n",
    "                analogies.append([idx,idx+7+i])\n",
    "    return analogies"
   ]
  },
  {
   "cell_type": "code",
   "execution_count": null,
   "metadata": {},
   "outputs": [],
   "source": [
    "def getCol(l):\n",
    "    col = np.zeros(62)\n",
    "    for idx in l:\n",
    "        col[idx]=1\n",
    "    return col"
   ]
  },
  {
   "cell_type": "code",
   "execution_count": null,
   "metadata": {},
   "outputs": [],
   "source": [
    "def getvec(col):\n",
    "    bscore_int = encodeColumn(col)\n",
    "    id_num = vocab.numericalize([str(bscore_int)])[0]\n",
    "    vec = tensor[id_num].reshape(1,-1)\n",
    "    return vec"
   ]
  },
  {
   "cell_type": "code",
   "execution_count": null,
   "metadata": {},
   "outputs": [],
   "source": [
    "analogies = find_analogies()"
   ]
  },
  {
   "cell_type": "code",
   "execution_count": null,
   "metadata": {
    "scrolled": true
   },
   "outputs": [],
   "source": [
    "for i1, i2 in analogies:\n",
    "    n1 = int2note(i1)\n",
    "    n2 = int2note(i2)\n",
    "    print(f'{n1}-{n2[0]+str(int(n2[1])-1)}={n1[0]+str(int(n1[1])+1)}-{n2}')"
   ]
  },
  {
   "cell_type": "code",
   "execution_count": null,
   "metadata": {},
   "outputs": [],
   "source": []
  }
 ],
 "metadata": {
  "kernelspec": {
   "display_name": "Python 3",
   "language": "python",
   "name": "python3"
  },
  "language_info": {
   "codemirror_mode": {
    "name": "ipython",
    "version": 3
   },
   "file_extension": ".py",
   "mimetype": "text/x-python",
   "name": "python",
   "nbconvert_exporter": "python",
   "pygments_lexer": "ipython3",
   "version": "3.7.3"
  },
  "toc": {
   "base_numbering": 1,
   "nav_menu": {},
   "number_sections": false,
   "sideBar": true,
   "skip_h1_title": true,
   "title_cell": "Table of Contents",
   "title_sidebar": "Contents",
   "toc_cell": false,
   "toc_position": {},
   "toc_section_display": true,
   "toc_window_display": false
  }
 },
 "nbformat": 4,
 "nbformat_minor": 2
}
